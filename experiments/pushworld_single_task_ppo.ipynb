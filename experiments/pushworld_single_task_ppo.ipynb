{
  "cells": [
    {
      "cell_type": "markdown",
      "id": "9bb95ab4",
      "metadata": {
        "id": "9bb95ab4"
      },
      "source": [
        "# Single-task PushWorld\n",
        "\n",
        "Combined training code from multiple source files."
      ]
    },
    {
      "cell_type": "code",
      "execution_count": 1,
      "id": "0ee50d22",
      "metadata": {
        "colab": {
          "base_uri": "https://localhost:8080/"
        },
        "id": "0ee50d22",
        "outputId": "47ca8f1f-2fc3-4391-bcf9-ac2910687c0f"
      },
      "outputs": [
        {
          "output_type": "stream",
          "name": "stdout",
          "text": [
            "Collecting xminigrid@ git+https://github.com/jugheadjones10/xland-minigrid.git (from xminigrid[baselines]@ git+https://github.com/jugheadjones10/xland-minigrid.git)\n",
            "  Cloning https://github.com/jugheadjones10/xland-minigrid.git to /tmp/pip-install-o7j4ducx/xminigrid_4e5ffed976484a3ebf98154327b09071\n",
            "  Running command git clone --filter=blob:none --quiet https://github.com/jugheadjones10/xland-minigrid.git /tmp/pip-install-o7j4ducx/xminigrid_4e5ffed976484a3ebf98154327b09071\n",
            "  Resolved https://github.com/jugheadjones10/xland-minigrid.git to commit 78910b5bef495013790dce14ef710852148224ed\n",
            "  Installing build dependencies ... \u001b[?25l\u001b[?25hdone\n",
            "  Getting requirements to build wheel ... \u001b[?25l\u001b[?25hdone\n",
            "  Preparing metadata (pyproject.toml) ... \u001b[?25l\u001b[?25hdone\n",
            "Requirement already satisfied: jax>=0.4.27 in /usr/local/lib/python3.11/dist-packages (from xminigrid@ git+https://github.com/jugheadjones10/xland-minigrid.git->xminigrid[baselines]@ git+https://github.com/jugheadjones10/xland-minigrid.git) (0.5.2)\n",
            "Requirement already satisfied: jaxlib>=0.4.27 in /usr/local/lib/python3.11/dist-packages (from xminigrid@ git+https://github.com/jugheadjones10/xland-minigrid.git->xminigrid[baselines]@ git+https://github.com/jugheadjones10/xland-minigrid.git) (0.5.1)\n",
            "Requirement already satisfied: flax>=0.8.0 in /usr/local/lib/python3.11/dist-packages (from xminigrid@ git+https://github.com/jugheadjones10/xland-minigrid.git->xminigrid[baselines]@ git+https://github.com/jugheadjones10/xland-minigrid.git) (0.10.6)\n",
            "Requirement already satisfied: rich>=13.4.2 in /usr/local/lib/python3.11/dist-packages (from xminigrid@ git+https://github.com/jugheadjones10/xland-minigrid.git->xminigrid[baselines]@ git+https://github.com/jugheadjones10/xland-minigrid.git) (13.9.4)\n",
            "Requirement already satisfied: chex>=0.1.85 in /usr/local/lib/python3.11/dist-packages (from xminigrid@ git+https://github.com/jugheadjones10/xland-minigrid.git->xminigrid[baselines]@ git+https://github.com/jugheadjones10/xland-minigrid.git) (0.1.89)\n",
            "Requirement already satisfied: imageio>=2.31.2 in /usr/local/lib/python3.11/dist-packages (from xminigrid@ git+https://github.com/jugheadjones10/xland-minigrid.git->xminigrid[baselines]@ git+https://github.com/jugheadjones10/xland-minigrid.git) (2.37.0)\n",
            "Requirement already satisfied: imageio-ffmpeg>=0.4.9 in /usr/local/lib/python3.11/dist-packages (from xminigrid@ git+https://github.com/jugheadjones10/xland-minigrid.git->xminigrid[baselines]@ git+https://github.com/jugheadjones10/xland-minigrid.git) (0.6.0)\n",
            "Requirement already satisfied: matplotlib>=3.7.2 in /usr/local/lib/python3.11/dist-packages (from xminigrid@ git+https://github.com/jugheadjones10/xland-minigrid.git->xminigrid[baselines]@ git+https://github.com/jugheadjones10/xland-minigrid.git) (3.10.0)\n",
            "Requirement already satisfied: wandb>=0.15.10 in /usr/local/lib/python3.11/dist-packages (from xminigrid@ git+https://github.com/jugheadjones10/xland-minigrid.git->xminigrid[baselines]@ git+https://github.com/jugheadjones10/xland-minigrid.git) (0.20.1)\n",
            "Collecting pyrallis>=0.3.1 (from xminigrid@ git+https://github.com/jugheadjones10/xland-minigrid.git->xminigrid[baselines]@ git+https://github.com/jugheadjones10/xland-minigrid.git)\n",
            "  Downloading pyrallis-0.3.1-py3-none-any.whl.metadata (17 kB)\n",
            "Collecting distrax>=0.1.4 (from xminigrid@ git+https://github.com/jugheadjones10/xland-minigrid.git->xminigrid[baselines]@ git+https://github.com/jugheadjones10/xland-minigrid.git)\n",
            "  Downloading distrax-0.1.5-py3-none-any.whl.metadata (13 kB)\n",
            "Requirement already satisfied: optax>=0.1.5 in /usr/local/lib/python3.11/dist-packages (from xminigrid@ git+https://github.com/jugheadjones10/xland-minigrid.git->xminigrid[baselines]@ git+https://github.com/jugheadjones10/xland-minigrid.git) (0.2.5)\n",
            "Collecting orbax>=0.1.9 (from xminigrid@ git+https://github.com/jugheadjones10/xland-minigrid.git->xminigrid[baselines]@ git+https://github.com/jugheadjones10/xland-minigrid.git)\n",
            "  Downloading orbax-0.1.9.tar.gz (1.6 kB)\n",
            "  Preparing metadata (setup.py) ... \u001b[?25l\u001b[?25hdone\n",
            "Requirement already satisfied: tqdm>=4.66.4 in /usr/local/lib/python3.11/dist-packages (from xminigrid@ git+https://github.com/jugheadjones10/xland-minigrid.git->xminigrid[baselines]@ git+https://github.com/jugheadjones10/xland-minigrid.git) (4.67.1)\n",
            "Requirement already satisfied: absl-py>=0.9.0 in /usr/local/lib/python3.11/dist-packages (from chex>=0.1.85->xminigrid@ git+https://github.com/jugheadjones10/xland-minigrid.git->xminigrid[baselines]@ git+https://github.com/jugheadjones10/xland-minigrid.git) (1.4.0)\n",
            "Requirement already satisfied: typing_extensions>=4.2.0 in /usr/local/lib/python3.11/dist-packages (from chex>=0.1.85->xminigrid@ git+https://github.com/jugheadjones10/xland-minigrid.git->xminigrid[baselines]@ git+https://github.com/jugheadjones10/xland-minigrid.git) (4.14.0)\n",
            "Requirement already satisfied: numpy>=1.24.1 in /usr/local/lib/python3.11/dist-packages (from chex>=0.1.85->xminigrid@ git+https://github.com/jugheadjones10/xland-minigrid.git->xminigrid[baselines]@ git+https://github.com/jugheadjones10/xland-minigrid.git) (2.0.2)\n",
            "Requirement already satisfied: toolz>=0.9.0 in /usr/local/lib/python3.11/dist-packages (from chex>=0.1.85->xminigrid@ git+https://github.com/jugheadjones10/xland-minigrid.git->xminigrid[baselines]@ git+https://github.com/jugheadjones10/xland-minigrid.git) (0.12.1)\n",
            "Requirement already satisfied: tensorflow-probability>=0.15.0 in /usr/local/lib/python3.11/dist-packages (from distrax>=0.1.4->xminigrid@ git+https://github.com/jugheadjones10/xland-minigrid.git->xminigrid[baselines]@ git+https://github.com/jugheadjones10/xland-minigrid.git) (0.25.0)\n",
            "Requirement already satisfied: msgpack in /usr/local/lib/python3.11/dist-packages (from flax>=0.8.0->xminigrid@ git+https://github.com/jugheadjones10/xland-minigrid.git->xminigrid[baselines]@ git+https://github.com/jugheadjones10/xland-minigrid.git) (1.1.0)\n",
            "Requirement already satisfied: orbax-checkpoint in /usr/local/lib/python3.11/dist-packages (from flax>=0.8.0->xminigrid@ git+https://github.com/jugheadjones10/xland-minigrid.git->xminigrid[baselines]@ git+https://github.com/jugheadjones10/xland-minigrid.git) (0.11.14)\n",
            "Requirement already satisfied: tensorstore in /usr/local/lib/python3.11/dist-packages (from flax>=0.8.0->xminigrid@ git+https://github.com/jugheadjones10/xland-minigrid.git->xminigrid[baselines]@ git+https://github.com/jugheadjones10/xland-minigrid.git) (0.1.74)\n",
            "Requirement already satisfied: PyYAML>=5.4.1 in /usr/local/lib/python3.11/dist-packages (from flax>=0.8.0->xminigrid@ git+https://github.com/jugheadjones10/xland-minigrid.git->xminigrid[baselines]@ git+https://github.com/jugheadjones10/xland-minigrid.git) (6.0.2)\n",
            "Requirement already satisfied: treescope>=0.1.7 in /usr/local/lib/python3.11/dist-packages (from flax>=0.8.0->xminigrid@ git+https://github.com/jugheadjones10/xland-minigrid.git->xminigrid[baselines]@ git+https://github.com/jugheadjones10/xland-minigrid.git) (0.1.9)\n",
            "Requirement already satisfied: pillow>=8.3.2 in /usr/local/lib/python3.11/dist-packages (from imageio>=2.31.2->xminigrid@ git+https://github.com/jugheadjones10/xland-minigrid.git->xminigrid[baselines]@ git+https://github.com/jugheadjones10/xland-minigrid.git) (11.2.1)\n",
            "Requirement already satisfied: ml_dtypes>=0.4.0 in /usr/local/lib/python3.11/dist-packages (from jax>=0.4.27->xminigrid@ git+https://github.com/jugheadjones10/xland-minigrid.git->xminigrid[baselines]@ git+https://github.com/jugheadjones10/xland-minigrid.git) (0.4.1)\n",
            "Requirement already satisfied: opt_einsum in /usr/local/lib/python3.11/dist-packages (from jax>=0.4.27->xminigrid@ git+https://github.com/jugheadjones10/xland-minigrid.git->xminigrid[baselines]@ git+https://github.com/jugheadjones10/xland-minigrid.git) (3.4.0)\n",
            "Requirement already satisfied: scipy>=1.11.1 in /usr/local/lib/python3.11/dist-packages (from jax>=0.4.27->xminigrid@ git+https://github.com/jugheadjones10/xland-minigrid.git->xminigrid[baselines]@ git+https://github.com/jugheadjones10/xland-minigrid.git) (1.15.3)\n",
            "Requirement already satisfied: contourpy>=1.0.1 in /usr/local/lib/python3.11/dist-packages (from matplotlib>=3.7.2->xminigrid@ git+https://github.com/jugheadjones10/xland-minigrid.git->xminigrid[baselines]@ git+https://github.com/jugheadjones10/xland-minigrid.git) (1.3.2)\n",
            "Requirement already satisfied: cycler>=0.10 in /usr/local/lib/python3.11/dist-packages (from matplotlib>=3.7.2->xminigrid@ git+https://github.com/jugheadjones10/xland-minigrid.git->xminigrid[baselines]@ git+https://github.com/jugheadjones10/xland-minigrid.git) (0.12.1)\n",
            "Requirement already satisfied: fonttools>=4.22.0 in /usr/local/lib/python3.11/dist-packages (from matplotlib>=3.7.2->xminigrid@ git+https://github.com/jugheadjones10/xland-minigrid.git->xminigrid[baselines]@ git+https://github.com/jugheadjones10/xland-minigrid.git) (4.58.2)\n",
            "Requirement already satisfied: kiwisolver>=1.3.1 in /usr/local/lib/python3.11/dist-packages (from matplotlib>=3.7.2->xminigrid@ git+https://github.com/jugheadjones10/xland-minigrid.git->xminigrid[baselines]@ git+https://github.com/jugheadjones10/xland-minigrid.git) (1.4.8)\n",
            "Requirement already satisfied: packaging>=20.0 in /usr/local/lib/python3.11/dist-packages (from matplotlib>=3.7.2->xminigrid@ git+https://github.com/jugheadjones10/xland-minigrid.git->xminigrid[baselines]@ git+https://github.com/jugheadjones10/xland-minigrid.git) (24.2)\n",
            "Requirement already satisfied: pyparsing>=2.3.1 in /usr/local/lib/python3.11/dist-packages (from matplotlib>=3.7.2->xminigrid@ git+https://github.com/jugheadjones10/xland-minigrid.git->xminigrid[baselines]@ git+https://github.com/jugheadjones10/xland-minigrid.git) (3.2.3)\n",
            "Requirement already satisfied: python-dateutil>=2.7 in /usr/local/lib/python3.11/dist-packages (from matplotlib>=3.7.2->xminigrid@ git+https://github.com/jugheadjones10/xland-minigrid.git->xminigrid[baselines]@ git+https://github.com/jugheadjones10/xland-minigrid.git) (2.9.0.post0)\n",
            "Collecting typing-inspect (from pyrallis>=0.3.1->xminigrid@ git+https://github.com/jugheadjones10/xland-minigrid.git->xminigrid[baselines]@ git+https://github.com/jugheadjones10/xland-minigrid.git)\n",
            "  Downloading typing_inspect-0.9.0-py3-none-any.whl.metadata (1.5 kB)\n",
            "Requirement already satisfied: markdown-it-py>=2.2.0 in /usr/local/lib/python3.11/dist-packages (from rich>=13.4.2->xminigrid@ git+https://github.com/jugheadjones10/xland-minigrid.git->xminigrid[baselines]@ git+https://github.com/jugheadjones10/xland-minigrid.git) (3.0.0)\n",
            "Requirement already satisfied: pygments<3.0.0,>=2.13.0 in /usr/local/lib/python3.11/dist-packages (from rich>=13.4.2->xminigrid@ git+https://github.com/jugheadjones10/xland-minigrid.git->xminigrid[baselines]@ git+https://github.com/jugheadjones10/xland-minigrid.git) (2.19.1)\n",
            "Requirement already satisfied: click!=8.0.0,>=7.1 in /usr/local/lib/python3.11/dist-packages (from wandb>=0.15.10->xminigrid@ git+https://github.com/jugheadjones10/xland-minigrid.git->xminigrid[baselines]@ git+https://github.com/jugheadjones10/xland-minigrid.git) (8.2.1)\n",
            "Requirement already satisfied: gitpython!=3.1.29,>=1.0.0 in /usr/local/lib/python3.11/dist-packages (from wandb>=0.15.10->xminigrid@ git+https://github.com/jugheadjones10/xland-minigrid.git->xminigrid[baselines]@ git+https://github.com/jugheadjones10/xland-minigrid.git) (3.1.44)\n",
            "Requirement already satisfied: platformdirs in /usr/local/lib/python3.11/dist-packages (from wandb>=0.15.10->xminigrid@ git+https://github.com/jugheadjones10/xland-minigrid.git->xminigrid[baselines]@ git+https://github.com/jugheadjones10/xland-minigrid.git) (4.3.8)\n",
            "Requirement already satisfied: protobuf!=4.21.0,!=5.28.0,<7,>=3.19.0 in /usr/local/lib/python3.11/dist-packages (from wandb>=0.15.10->xminigrid@ git+https://github.com/jugheadjones10/xland-minigrid.git->xminigrid[baselines]@ git+https://github.com/jugheadjones10/xland-minigrid.git) (5.29.5)\n",
            "Requirement already satisfied: psutil>=5.0.0 in /usr/local/lib/python3.11/dist-packages (from wandb>=0.15.10->xminigrid@ git+https://github.com/jugheadjones10/xland-minigrid.git->xminigrid[baselines]@ git+https://github.com/jugheadjones10/xland-minigrid.git) (5.9.5)\n",
            "Requirement already satisfied: pydantic<3 in /usr/local/lib/python3.11/dist-packages (from wandb>=0.15.10->xminigrid@ git+https://github.com/jugheadjones10/xland-minigrid.git->xminigrid[baselines]@ git+https://github.com/jugheadjones10/xland-minigrid.git) (2.11.5)\n",
            "Requirement already satisfied: requests<3,>=2.0.0 in /usr/local/lib/python3.11/dist-packages (from wandb>=0.15.10->xminigrid@ git+https://github.com/jugheadjones10/xland-minigrid.git->xminigrid[baselines]@ git+https://github.com/jugheadjones10/xland-minigrid.git) (2.32.3)\n",
            "Requirement already satisfied: sentry-sdk>=2.0.0 in /usr/local/lib/python3.11/dist-packages (from wandb>=0.15.10->xminigrid@ git+https://github.com/jugheadjones10/xland-minigrid.git->xminigrid[baselines]@ git+https://github.com/jugheadjones10/xland-minigrid.git) (2.29.1)\n",
            "Requirement already satisfied: setproctitle in /usr/local/lib/python3.11/dist-packages (from wandb>=0.15.10->xminigrid@ git+https://github.com/jugheadjones10/xland-minigrid.git->xminigrid[baselines]@ git+https://github.com/jugheadjones10/xland-minigrid.git) (1.3.6)\n",
            "Requirement already satisfied: gitdb<5,>=4.0.1 in /usr/local/lib/python3.11/dist-packages (from gitpython!=3.1.29,>=1.0.0->wandb>=0.15.10->xminigrid@ git+https://github.com/jugheadjones10/xland-minigrid.git->xminigrid[baselines]@ git+https://github.com/jugheadjones10/xland-minigrid.git) (4.0.12)\n",
            "Requirement already satisfied: mdurl~=0.1 in /usr/local/lib/python3.11/dist-packages (from markdown-it-py>=2.2.0->rich>=13.4.2->xminigrid@ git+https://github.com/jugheadjones10/xland-minigrid.git->xminigrid[baselines]@ git+https://github.com/jugheadjones10/xland-minigrid.git) (0.1.2)\n",
            "Requirement already satisfied: etils[epath,epy] in /usr/local/lib/python3.11/dist-packages (from orbax-checkpoint->flax>=0.8.0->xminigrid@ git+https://github.com/jugheadjones10/xland-minigrid.git->xminigrid[baselines]@ git+https://github.com/jugheadjones10/xland-minigrid.git) (1.12.2)\n",
            "Requirement already satisfied: nest_asyncio in /usr/local/lib/python3.11/dist-packages (from orbax-checkpoint->flax>=0.8.0->xminigrid@ git+https://github.com/jugheadjones10/xland-minigrid.git->xminigrid[baselines]@ git+https://github.com/jugheadjones10/xland-minigrid.git) (1.6.0)\n",
            "Requirement already satisfied: humanize in /usr/local/lib/python3.11/dist-packages (from orbax-checkpoint->flax>=0.8.0->xminigrid@ git+https://github.com/jugheadjones10/xland-minigrid.git->xminigrid[baselines]@ git+https://github.com/jugheadjones10/xland-minigrid.git) (4.12.3)\n",
            "Requirement already satisfied: simplejson>=3.16.0 in /usr/local/lib/python3.11/dist-packages (from orbax-checkpoint->flax>=0.8.0->xminigrid@ git+https://github.com/jugheadjones10/xland-minigrid.git->xminigrid[baselines]@ git+https://github.com/jugheadjones10/xland-minigrid.git) (3.20.1)\n",
            "Requirement already satisfied: annotated-types>=0.6.0 in /usr/local/lib/python3.11/dist-packages (from pydantic<3->wandb>=0.15.10->xminigrid@ git+https://github.com/jugheadjones10/xland-minigrid.git->xminigrid[baselines]@ git+https://github.com/jugheadjones10/xland-minigrid.git) (0.7.0)\n",
            "Requirement already satisfied: pydantic-core==2.33.2 in /usr/local/lib/python3.11/dist-packages (from pydantic<3->wandb>=0.15.10->xminigrid@ git+https://github.com/jugheadjones10/xland-minigrid.git->xminigrid[baselines]@ git+https://github.com/jugheadjones10/xland-minigrid.git) (2.33.2)\n",
            "Requirement already satisfied: typing-inspection>=0.4.0 in /usr/local/lib/python3.11/dist-packages (from pydantic<3->wandb>=0.15.10->xminigrid@ git+https://github.com/jugheadjones10/xland-minigrid.git->xminigrid[baselines]@ git+https://github.com/jugheadjones10/xland-minigrid.git) (0.4.1)\n",
            "Requirement already satisfied: six>=1.5 in /usr/local/lib/python3.11/dist-packages (from python-dateutil>=2.7->matplotlib>=3.7.2->xminigrid@ git+https://github.com/jugheadjones10/xland-minigrid.git->xminigrid[baselines]@ git+https://github.com/jugheadjones10/xland-minigrid.git) (1.17.0)\n",
            "Requirement already satisfied: charset-normalizer<4,>=2 in /usr/local/lib/python3.11/dist-packages (from requests<3,>=2.0.0->wandb>=0.15.10->xminigrid@ git+https://github.com/jugheadjones10/xland-minigrid.git->xminigrid[baselines]@ git+https://github.com/jugheadjones10/xland-minigrid.git) (3.4.2)\n",
            "Requirement already satisfied: idna<4,>=2.5 in /usr/local/lib/python3.11/dist-packages (from requests<3,>=2.0.0->wandb>=0.15.10->xminigrid@ git+https://github.com/jugheadjones10/xland-minigrid.git->xminigrid[baselines]@ git+https://github.com/jugheadjones10/xland-minigrid.git) (3.10)\n",
            "Requirement already satisfied: urllib3<3,>=1.21.1 in /usr/local/lib/python3.11/dist-packages (from requests<3,>=2.0.0->wandb>=0.15.10->xminigrid@ git+https://github.com/jugheadjones10/xland-minigrid.git->xminigrid[baselines]@ git+https://github.com/jugheadjones10/xland-minigrid.git) (2.4.0)\n",
            "Requirement already satisfied: certifi>=2017.4.17 in /usr/local/lib/python3.11/dist-packages (from requests<3,>=2.0.0->wandb>=0.15.10->xminigrid@ git+https://github.com/jugheadjones10/xland-minigrid.git->xminigrid[baselines]@ git+https://github.com/jugheadjones10/xland-minigrid.git) (2025.4.26)\n",
            "Requirement already satisfied: decorator in /usr/local/lib/python3.11/dist-packages (from tensorflow-probability>=0.15.0->distrax>=0.1.4->xminigrid@ git+https://github.com/jugheadjones10/xland-minigrid.git->xminigrid[baselines]@ git+https://github.com/jugheadjones10/xland-minigrid.git) (4.4.2)\n",
            "Requirement already satisfied: cloudpickle>=1.3 in /usr/local/lib/python3.11/dist-packages (from tensorflow-probability>=0.15.0->distrax>=0.1.4->xminigrid@ git+https://github.com/jugheadjones10/xland-minigrid.git->xminigrid[baselines]@ git+https://github.com/jugheadjones10/xland-minigrid.git) (3.1.1)\n",
            "Requirement already satisfied: gast>=0.3.2 in /usr/local/lib/python3.11/dist-packages (from tensorflow-probability>=0.15.0->distrax>=0.1.4->xminigrid@ git+https://github.com/jugheadjones10/xland-minigrid.git->xminigrid[baselines]@ git+https://github.com/jugheadjones10/xland-minigrid.git) (0.6.0)\n",
            "Requirement already satisfied: dm-tree in /usr/local/lib/python3.11/dist-packages (from tensorflow-probability>=0.15.0->distrax>=0.1.4->xminigrid@ git+https://github.com/jugheadjones10/xland-minigrid.git->xminigrid[baselines]@ git+https://github.com/jugheadjones10/xland-minigrid.git) (0.1.9)\n",
            "Collecting mypy-extensions>=0.3.0 (from typing-inspect->pyrallis>=0.3.1->xminigrid@ git+https://github.com/jugheadjones10/xland-minigrid.git->xminigrid[baselines]@ git+https://github.com/jugheadjones10/xland-minigrid.git)\n",
            "  Downloading mypy_extensions-1.1.0-py3-none-any.whl.metadata (1.1 kB)\n",
            "Requirement already satisfied: smmap<6,>=3.0.1 in /usr/local/lib/python3.11/dist-packages (from gitdb<5,>=4.0.1->gitpython!=3.1.29,>=1.0.0->wandb>=0.15.10->xminigrid@ git+https://github.com/jugheadjones10/xland-minigrid.git->xminigrid[baselines]@ git+https://github.com/jugheadjones10/xland-minigrid.git) (5.0.2)\n",
            "Requirement already satisfied: attrs>=18.2.0 in /usr/local/lib/python3.11/dist-packages (from dm-tree->tensorflow-probability>=0.15.0->distrax>=0.1.4->xminigrid@ git+https://github.com/jugheadjones10/xland-minigrid.git->xminigrid[baselines]@ git+https://github.com/jugheadjones10/xland-minigrid.git) (25.3.0)\n",
            "Requirement already satisfied: wrapt>=1.11.2 in /usr/local/lib/python3.11/dist-packages (from dm-tree->tensorflow-probability>=0.15.0->distrax>=0.1.4->xminigrid@ git+https://github.com/jugheadjones10/xland-minigrid.git->xminigrid[baselines]@ git+https://github.com/jugheadjones10/xland-minigrid.git) (1.17.2)\n",
            "Requirement already satisfied: fsspec in /usr/local/lib/python3.11/dist-packages (from etils[epath,epy]->orbax-checkpoint->flax>=0.8.0->xminigrid@ git+https://github.com/jugheadjones10/xland-minigrid.git->xminigrid[baselines]@ git+https://github.com/jugheadjones10/xland-minigrid.git) (2025.3.2)\n",
            "Requirement already satisfied: importlib_resources in /usr/local/lib/python3.11/dist-packages (from etils[epath,epy]->orbax-checkpoint->flax>=0.8.0->xminigrid@ git+https://github.com/jugheadjones10/xland-minigrid.git->xminigrid[baselines]@ git+https://github.com/jugheadjones10/xland-minigrid.git) (6.5.2)\n",
            "Requirement already satisfied: zipp in /usr/local/lib/python3.11/dist-packages (from etils[epath,epy]->orbax-checkpoint->flax>=0.8.0->xminigrid@ git+https://github.com/jugheadjones10/xland-minigrid.git->xminigrid[baselines]@ git+https://github.com/jugheadjones10/xland-minigrid.git) (3.23.0)\n",
            "Downloading distrax-0.1.5-py3-none-any.whl (319 kB)\n",
            "\u001b[2K   \u001b[90m━━━━━━━━━━━━━━━━━━━━━━━━━━━━━━━━━━━━━━━━\u001b[0m \u001b[32m319.7/319.7 kB\u001b[0m \u001b[31m7.2 MB/s\u001b[0m eta \u001b[36m0:00:00\u001b[0m\n",
            "\u001b[?25hDownloading pyrallis-0.3.1-py3-none-any.whl (33 kB)\n",
            "Downloading typing_inspect-0.9.0-py3-none-any.whl (8.8 kB)\n",
            "Downloading mypy_extensions-1.1.0-py3-none-any.whl (5.0 kB)\n",
            "Building wheels for collected packages: xminigrid, orbax\n",
            "  Building wheel for xminigrid (pyproject.toml) ... \u001b[?25l\u001b[?25hdone\n",
            "  Created wheel for xminigrid: filename=xminigrid-0.9.1-py3-none-any.whl size=72430 sha256=c04620bcc6551da87dd983a6d358aa39c975b4c9ce7d0a79d183672fee06dee8\n",
            "  Stored in directory: /tmp/pip-ephem-wheel-cache-jsl1wgxe/wheels/c2/b5/bf/e756bdc2d97074ee0b3a8a84e93d98918ace1438297a7d126a\n",
            "  Building wheel for orbax (setup.py) ... \u001b[?25l\u001b[?25hdone\n",
            "  Created wheel for orbax: filename=orbax-0.1.9-py3-none-any.whl size=1496 sha256=3f025885f27ca87734501d23c12ce795ee05edf59bfbcf829e24930c6bd73a2a\n",
            "  Stored in directory: /root/.cache/pip/wheels/c3/db/68/3b3d5f58479cc8823c04f14722958d959580e649d5c31a6405\n",
            "Successfully built xminigrid orbax\n",
            "Installing collected packages: mypy-extensions, typing-inspect, pyrallis, orbax, distrax, xminigrid\n",
            "Successfully installed distrax-0.1.5 mypy-extensions-1.1.0 orbax-0.1.9 pyrallis-0.3.1 typing-inspect-0.9.0 xminigrid-0.9.1\n"
          ]
        }
      ],
      "source": [
        "# Install if needed\n",
        "!pip install \"xminigrid[baselines] @ git+https://github.com/jugheadjones10/xland-minigrid.git\""
      ]
    },
    {
      "cell_type": "code",
      "execution_count": 2,
      "id": "7335fa41",
      "metadata": {
        "id": "7335fa41"
      },
      "outputs": [],
      "source": [
        "import os\n",
        "import shutil\n",
        "import time #noqa\n",
        "import os #noqa\n",
        "import math # noqa\n",
        "from typing import TypedDict, Optional, Literal #noqa\n",
        "import numpy as np #noqa\n",
        "import importlib #noqa\n",
        "import os #noqa\n",
        "\n",
        "import jax #noqa\n",
        "import jax.numpy as jnp #noqa\n",
        "import jax.tree_util as jtu #noqa\n",
        "import flax #noqa\n",
        "import flax.linen as nn #noqa\n",
        "from flax.training import orbax_utils #noqa\n",
        "import distrax #noqa\n",
        "import orbax #noqa\n",
        "import optax #noqa\n",
        "import imageio #noqa\n",
        "import wandb #noqa\n",
        "import matplotlib.pyplot as plt #noqa\n",
        "\n",
        "from flax import struct #noqa\n",
        "from flax.typing import Dtype #noqa\n",
        "from flax.linen.dtypes import promote_dtype #noqa\n",
        "from flax.linen.initializers import glorot_normal, orthogonal, zeros_init #noqa\n",
        "from flax.training.train_state import TrainState #noqa\n",
        "from flax.jax_utils import replicate, unreplicate #noqa\n",
        "from dataclasses import asdict, dataclass #noqa\n",
        "from functools import partial #noqa\n",
        "\n",
        "import xminigrid.envs.pushworld as pushworld\n",
        "from xminigrid.envs.pushworld.benchmarks import Benchmark\n",
        "from xminigrid.envs.pushworld.constants import Tiles, NUM_TILES, SUCCESS_REWARD\n",
        "from xminigrid.envs.pushworld.environment import Environment, EnvParams, EnvParamsT\n",
        "from xminigrid.envs.pushworld.envs.single_task_pushworld import SingleTaskPushWorldEnvironment, SingleTaskPushWorldEnvParams\n",
        "from xminigrid.envs.pushworld.envs.meta_task_pushworld import MetaTaskPushWorldEnvironment\n",
        "from xminigrid.envs.pushworld.scripts.upload import encode_puzzle\n",
        "from xminigrid.envs.pushworld.wrappers import GoalObservationWrapper, GymAutoResetWrapper, Wrapper\n",
        "from xminigrid.envs.pushworld.types import State, TimeStep, StepType, EnvCarry, PushWorldPuzzle\n",
        "from xminigrid.envs.pushworld.grid import get_obs_from_puzzle\n",
        "\n",
        "from IPython.display import Video, HTML, display"
      ]
    },
    {
      "cell_type": "markdown",
      "id": "f2641c40",
      "metadata": {
        "id": "f2641c40"
      },
      "source": [
        "## Networks"
      ]
    },
    {
      "cell_type": "code",
      "execution_count": 3,
      "id": "6ce25d6c",
      "metadata": {
        "id": "6ce25d6c"
      },
      "outputs": [],
      "source": [
        "# Model adapted from minigrid baselines:\n",
        "# https://github.com/lcswillems/rl-starter-files/blob/master/model.py\n",
        "\n",
        "\n",
        "class GRU(nn.Module):\n",
        "    hidden_dim: int\n",
        "    dtype: Optional[Dtype] = None\n",
        "    param_dtype: Dtype = jnp.float32\n",
        "\n",
        "    @nn.compact\n",
        "    def __call__(self, xs, init_state):\n",
        "        seq_len, input_dim = xs.shape\n",
        "        # this init might not be optimal, for example bias for reset gate should be -1 (for now ok)\n",
        "        Wi = self.param(\"Wi\", glorot_normal(in_axis=1, out_axis=0), (self.hidden_dim * 3, input_dim), self.param_dtype)\n",
        "        Wh = self.param(\"Wh\", orthogonal(column_axis=0), (self.hidden_dim * 3, self.hidden_dim), self.param_dtype)\n",
        "        bi = self.param(\"bi\", zeros_init(), (self.hidden_dim * 3,), self.param_dtype)\n",
        "        bn = self.param(\"bn\", zeros_init(), (self.hidden_dim,), self.param_dtype)\n",
        "\n",
        "        def _step_fn(h, x):\n",
        "            igates = jnp.split(Wi @ x + bi, 3)\n",
        "            hgates = jnp.split(Wh @ h, 3)\n",
        "\n",
        "            reset = nn.sigmoid(igates[0] + hgates[0])\n",
        "            update = nn.sigmoid(igates[1] + hgates[1])\n",
        "            new = nn.tanh(igates[2] + reset * (hgates[2] + bn))\n",
        "            next_h = (1 - update) * new + update * h\n",
        "\n",
        "            return next_h, next_h\n",
        "\n",
        "        # cast to the computation dtype\n",
        "        xs, init_state, Wi, Wh, bi, bn = promote_dtype(xs, init_state, Wi, Wh, bi, bn, dtype=self.dtype)\n",
        "\n",
        "        last_state, all_states = jax.lax.scan(_step_fn, init=init_state, xs=xs)\n",
        "        return all_states, last_state\n",
        "\n",
        "\n",
        "class RNNModel(nn.Module):\n",
        "    hidden_dim: int\n",
        "    num_layers: int\n",
        "    dtype: Optional[Dtype] = None\n",
        "    param_dtype: Dtype = jnp.float32\n",
        "\n",
        "    @nn.compact\n",
        "    def __call__(self, xs, init_state):\n",
        "        # xs: [seq_len, input_dim]\n",
        "        # init_state: [num_layers, hidden_dim]\n",
        "        outs, states = [], []\n",
        "        for layer in range(self.num_layers):\n",
        "            xs, state = GRU(self.hidden_dim, self.dtype, self.param_dtype)(xs, init_state[layer])\n",
        "            outs.append(xs)\n",
        "            states.append(state)\n",
        "\n",
        "        # sum outputs from all layers, kinda like in ResNet\n",
        "        return jnp.array(outs).sum(0), jnp.array(states)\n",
        "\n",
        "\n",
        "BatchedRNNModel = flax.linen.vmap(\n",
        "    RNNModel, variable_axes={\"params\": None}, split_rngs={\"params\": False}, axis_name=\"batch\"\n",
        ")\n",
        "\n",
        "\n",
        "class EmbeddingEncoder(nn.Module):\n",
        "    emb_dim: int = 16\n",
        "    dtype: Optional[Dtype] = None\n",
        "    param_dtype: Dtype = jnp.float32\n",
        "\n",
        "    @nn.compact\n",
        "    def __call__(self, img):\n",
        "        entity_emb = nn.Embed(NUM_TILES, self.emb_dim, self.dtype, self.param_dtype)\n",
        "\n",
        "        # [..., channels]\n",
        "        img_emb = entity_emb(img[..., 0])\n",
        "        return img_emb\n",
        "\n",
        "\n",
        "class ActorCriticInput(TypedDict):\n",
        "    obs_img: jax.Array\n",
        "    obs_goal: jax.Array\n",
        "    prev_action: jax.Array\n",
        "    prev_reward: jax.Array\n",
        "\n",
        "\n",
        "class ActorCriticRNN(nn.Module):\n",
        "    num_actions: int\n",
        "    obs_emb_dim: int = 16\n",
        "    action_emb_dim: int = 16\n",
        "    rnn_hidden_dim: int = 64\n",
        "    rnn_num_layers: int = 1\n",
        "    head_hidden_dim: int = 64\n",
        "    img_obs: bool = False\n",
        "    dtype: Optional[Dtype] = None\n",
        "    param_dtype: Dtype = jnp.float32\n",
        "\n",
        "    @nn.compact\n",
        "    def __call__(self, inputs: ActorCriticInput, hidden: jax.Array) -> tuple[distrax.Categorical, jax.Array, jax.Array]:\n",
        "        B, S = inputs[\"obs_img\"].shape[:2]\n",
        "\n",
        "        # encoder from https://github.com/lcswillems/rl-starter-files/blob/master/model.py\n",
        "        if self.img_obs:\n",
        "            img_encoder = nn.Sequential(\n",
        "                [\n",
        "                    nn.Conv(\n",
        "                        16,\n",
        "                        (3, 3),\n",
        "                        strides=2,\n",
        "                        padding=\"VALID\",\n",
        "                        kernel_init=orthogonal(math.sqrt(2)),\n",
        "                        dtype=self.dtype,\n",
        "                        param_dtype=self.param_dtype,\n",
        "                    ),\n",
        "                    nn.relu,\n",
        "                    nn.Conv(\n",
        "                        32,\n",
        "                        (3, 3),\n",
        "                        strides=2,\n",
        "                        padding=\"VALID\",\n",
        "                        kernel_init=orthogonal(math.sqrt(2)),\n",
        "                        dtype=self.dtype,\n",
        "                        param_dtype=self.param_dtype,\n",
        "                    ),\n",
        "                    nn.relu,\n",
        "                    nn.Conv(\n",
        "                        32,\n",
        "                        (3, 3),\n",
        "                        strides=2,\n",
        "                        padding=\"VALID\",\n",
        "                        kernel_init=orthogonal(math.sqrt(2)),\n",
        "                        dtype=self.dtype,\n",
        "                        param_dtype=self.param_dtype,\n",
        "                    ),\n",
        "                    nn.relu,\n",
        "                    nn.Conv(\n",
        "                        32,\n",
        "                        (3, 3),\n",
        "                        strides=2,\n",
        "                        padding=\"VALID\",\n",
        "                        kernel_init=orthogonal(math.sqrt(2)),\n",
        "                        dtype=self.dtype,\n",
        "                        param_dtype=self.param_dtype,\n",
        "                    ),\n",
        "                ]\n",
        "            )\n",
        "        else:\n",
        "            img_encoder = nn.Sequential(\n",
        "                [\n",
        "                    # For small dims nn.Embed is extremely slow in bf16, so we leave everything in default dtypes\n",
        "                    EmbeddingEncoder(emb_dim=self.obs_emb_dim),\n",
        "                    nn.Conv(\n",
        "                        16,\n",
        "                        (2, 2),\n",
        "                        padding=\"VALID\",\n",
        "                        kernel_init=orthogonal(math.sqrt(2)),\n",
        "                        dtype=self.dtype,\n",
        "                        param_dtype=self.param_dtype,\n",
        "                    ),\n",
        "                    nn.relu,\n",
        "                    nn.Conv(\n",
        "                        32,\n",
        "                        (2, 2),\n",
        "                        padding=\"VALID\",\n",
        "                        kernel_init=orthogonal(math.sqrt(2)),\n",
        "                        dtype=self.dtype,\n",
        "                        param_dtype=self.param_dtype,\n",
        "                    ),\n",
        "                    nn.relu,\n",
        "                    nn.Conv(\n",
        "                        64,\n",
        "                        (2, 2),\n",
        "                        padding=\"VALID\",\n",
        "                        kernel_init=orthogonal(math.sqrt(2)),\n",
        "                        dtype=self.dtype,\n",
        "                        param_dtype=self.param_dtype,\n",
        "                    ),\n",
        "                    nn.relu,\n",
        "                ]\n",
        "            )\n",
        "        action_encoder = nn.Embed(self.num_actions, self.action_emb_dim)\n",
        "        goal_encoder = nn.Dense(self.action_emb_dim, dtype=self.dtype, param_dtype=self.param_dtype)\n",
        "\n",
        "        rnn_core = BatchedRNNModel(\n",
        "            self.rnn_hidden_dim, self.rnn_num_layers, dtype=self.dtype, param_dtype=self.param_dtype\n",
        "        )\n",
        "        actor = nn.Sequential(\n",
        "            [\n",
        "                nn.Dense(\n",
        "                    self.head_hidden_dim, kernel_init=orthogonal(2), dtype=self.dtype, param_dtype=self.param_dtype\n",
        "                ),\n",
        "                nn.tanh,\n",
        "                nn.Dense(\n",
        "                    self.num_actions, kernel_init=orthogonal(0.01), dtype=self.dtype, param_dtype=self.param_dtype\n",
        "                ),\n",
        "            ]\n",
        "        )\n",
        "        critic = nn.Sequential(\n",
        "            [\n",
        "                nn.Dense(\n",
        "                    self.head_hidden_dim, kernel_init=orthogonal(2), dtype=self.dtype, param_dtype=self.param_dtype\n",
        "                ),\n",
        "                nn.tanh,\n",
        "                nn.Dense(1, kernel_init=orthogonal(1.0), dtype=self.dtype, param_dtype=self.param_dtype),\n",
        "            ]\n",
        "        )\n",
        "\n",
        "        # [batch_size, seq_len, ...]\n",
        "        obs_emb = img_encoder(inputs[\"obs_img\"].astype(jnp.int32)).reshape(B, S, -1)\n",
        "        goal_emb = goal_encoder(inputs[\"obs_goal\"])\n",
        "        act_emb = action_encoder(inputs[\"prev_action\"])\n",
        "\n",
        "        # [batch_size, seq_len, hidden_dim + 2 * act_emb_dim + 1]\n",
        "        out = jnp.concatenate([obs_emb, goal_emb, act_emb, inputs[\"prev_reward\"][..., None]], axis=-1)\n",
        "\n",
        "        # core networks\n",
        "        out, new_hidden = rnn_core(out, hidden)\n",
        "\n",
        "        # casting to full precision for the loss, as softmax/log_softmax\n",
        "        # (inside Categorical) is not stable in bf16\n",
        "        logits = actor(out).astype(jnp.float32)\n",
        "\n",
        "        dist = distrax.Categorical(logits=logits)\n",
        "        values = critic(out)\n",
        "\n",
        "        return dist, jnp.squeeze(values, axis=-1), new_hidden\n",
        "\n",
        "    def initialize_carry(self, batch_size):\n",
        "        return jnp.zeros((batch_size, self.rnn_num_layers, self.rnn_hidden_dim), dtype=self.dtype)"
      ]
    },
    {
      "cell_type": "markdown",
      "id": "af016b59",
      "metadata": {
        "id": "af016b59"
      },
      "source": [
        "## Utils"
      ]
    },
    {
      "cell_type": "code",
      "execution_count": 4,
      "id": "71261d65",
      "metadata": {
        "id": "71261d65"
      },
      "outputs": [],
      "source": [
        "# utilities for PPO training and evaluation\n",
        "\n",
        "\n",
        "# Training stuff\n",
        "class Transition(struct.PyTreeNode):\n",
        "    done: jax.Array\n",
        "    action: jax.Array\n",
        "    value: jax.Array\n",
        "    reward: jax.Array\n",
        "    log_prob: jax.Array\n",
        "    # for obs\n",
        "    obs: jax.Array\n",
        "    goal: jax.Array\n",
        "    # for rnn policy\n",
        "    prev_action: jax.Array\n",
        "    prev_reward: jax.Array\n",
        "\n",
        "\n",
        "def calculate_gae(\n",
        "    transitions: Transition,\n",
        "    last_val: jax.Array,\n",
        "    gamma: float,\n",
        "    gae_lambda: float,\n",
        ") -> tuple[jax.Array, jax.Array]:\n",
        "    # single iteration for the loop\n",
        "    def _get_advantages(gae_and_next_value, transition):\n",
        "        gae, next_value = gae_and_next_value\n",
        "        delta = transition.reward + gamma * next_value * (1 - transition.done) - transition.value\n",
        "        gae = delta + gamma * gae_lambda * (1 - transition.done) * gae\n",
        "        return (gae, transition.value), gae\n",
        "\n",
        "    _, advantages = jax.lax.scan(\n",
        "        _get_advantages,\n",
        "        (jnp.zeros_like(last_val), last_val),\n",
        "        transitions,\n",
        "        reverse=True,\n",
        "    )\n",
        "    # advantages and values (Q)\n",
        "    return advantages, advantages + transitions.value\n",
        "\n",
        "\n",
        "def ppo_update_networks(\n",
        "    train_state: TrainState,\n",
        "    transitions: Transition,\n",
        "    init_hstate: jax.Array,\n",
        "    advantages: jax.Array,\n",
        "    targets: jax.Array,\n",
        "    clip_eps: float,\n",
        "    vf_coef: float,\n",
        "    ent_coef: float,\n",
        "):\n",
        "    # NORMALIZE ADVANTAGES\n",
        "    advantages = (advantages - advantages.mean()) / (advantages.std() + 1e-8)\n",
        "\n",
        "    def _loss_fn(params):\n",
        "        # RERUN NETWORK\n",
        "        dist, value, _ = train_state.apply_fn(\n",
        "            params,\n",
        "            {\n",
        "                # [batch_size, seq_len, ...]\n",
        "                \"obs_img\": transitions.obs,\n",
        "                \"obs_goal\": transitions.goal,\n",
        "                \"prev_action\": transitions.prev_action,\n",
        "                \"prev_reward\": transitions.prev_reward,\n",
        "            },\n",
        "            init_hstate,\n",
        "        )\n",
        "        log_prob = dist.log_prob(transitions.action)\n",
        "\n",
        "        # CALCULATE VALUE LOSS\n",
        "        value_pred_clipped = transitions.value + (value - transitions.value).clip(-clip_eps, clip_eps)\n",
        "        value_loss = jnp.square(value - targets)\n",
        "        value_loss_clipped = jnp.square(value_pred_clipped - targets)\n",
        "        value_loss = 0.5 * jnp.maximum(value_loss, value_loss_clipped).mean()\n",
        "\n",
        "        # TODO: ablate this!\n",
        "        # value_loss = jnp.square(value - targets).mean()\n",
        "\n",
        "        # CALCULATE ACTOR LOSS\n",
        "        ratio = jnp.exp(log_prob - transitions.log_prob)\n",
        "        actor_loss1 = advantages * ratio\n",
        "        actor_loss2 = advantages * jnp.clip(ratio, 1.0 - clip_eps, 1.0 + clip_eps)\n",
        "        actor_loss = -jnp.minimum(actor_loss1, actor_loss2).mean()\n",
        "        entropy = dist.entropy().mean()\n",
        "\n",
        "        total_loss = actor_loss + vf_coef * value_loss - ent_coef * entropy\n",
        "        return total_loss, (value_loss, actor_loss, entropy)\n",
        "\n",
        "    (loss, (vloss, aloss, entropy)), grads = jax.value_and_grad(_loss_fn, has_aux=True)(train_state.params)\n",
        "    (loss, vloss, aloss, entropy, grads) = jax.lax.pmean((loss, vloss, aloss, entropy, grads), axis_name=\"devices\")\n",
        "    train_state = train_state.apply_gradients(grads=grads)\n",
        "    update_info = {\n",
        "        \"total_loss\": loss,\n",
        "        \"value_loss\": vloss,\n",
        "        \"actor_loss\": aloss,\n",
        "        \"entropy\": entropy,\n",
        "    }\n",
        "    return train_state, update_info\n",
        "\n",
        "\n",
        "# for evaluation (evaluate for N consecutive episodes, sum rewards)\n",
        "# N=1 single task, N>1 for meta-RL\n",
        "class RolloutStats(struct.PyTreeNode):\n",
        "    reward: jax.Array = struct.field(default_factory=lambda: jnp.asarray(0.0))\n",
        "    length: jax.Array = struct.field(default_factory=lambda: jnp.asarray(0))\n",
        "    episodes: jax.Array = struct.field(default_factory=lambda: jnp.asarray(0))\n",
        "    solved: jax.Array = struct.field(default_factory=lambda: jnp.asarray(0))\n",
        "\n",
        "\n",
        "# for tracking per-episode statistics during meta-RL evaluation\n",
        "class MetaRolloutStats(struct.PyTreeNode):\n",
        "    episode_rewards: jax.Array  # Shape: [max_episodes] - reward for each episode\n",
        "    episode_lengths: jax.Array  # Shape: [max_episodes] - length of each episode\n",
        "    episode_solved: jax.Array  # Shape: [max_episodes] - whether each episode was solved\n",
        "    total_reward: jax.Array  # Scalar - total reward across all episodes\n",
        "    num_episodes_completed: jax.Array  # Scalar - number of episodes actually completed\n",
        "\n",
        "\n",
        "def rollout(\n",
        "    rng: jax.Array,\n",
        "    env: Environment,\n",
        "    env_params: EnvParams,\n",
        "    eval_puzzle: PushWorldPuzzle,\n",
        "    train_state: TrainState,\n",
        "    init_hstate: jax.Array,\n",
        "    num_consecutive_episodes: int = 1,\n",
        ") -> RolloutStats:\n",
        "    def _cond_fn(carry):\n",
        "        rng, stats, timestep, prev_action, prev_reward, hstate = carry\n",
        "        return jnp.less(stats.episodes, num_consecutive_episodes)\n",
        "\n",
        "    def _body_fn(carry):\n",
        "        rng, stats, timestep, prev_action, prev_reward, hstate = carry\n",
        "\n",
        "        rng, _rng = jax.random.split(rng)\n",
        "        dist, _, hstate = train_state.apply_fn(\n",
        "            train_state.params,\n",
        "            {\n",
        "                # We add single channel dimension to end of obs_img\n",
        "                \"obs_img\": timestep.observation[\"img\"][None, None, ...],\n",
        "                \"obs_goal\": timestep.observation[\"goal\"][None, None, ...],\n",
        "                \"prev_action\": prev_action[None, None, ...],\n",
        "                \"prev_reward\": prev_reward[None, None, ...],\n",
        "            },\n",
        "            hstate,\n",
        "        )\n",
        "        action = dist.sample(seed=_rng).squeeze()\n",
        "        timestep = env.step(env_params, timestep, action)\n",
        "\n",
        "        solved_flag = ((timestep.reward == SUCCESS_REWARD) & (timestep.last() == 1)).astype(jnp.int32)\n",
        "        stats = stats.replace(\n",
        "            reward=stats.reward + timestep.reward,\n",
        "            length=stats.length + 1,\n",
        "            episodes=stats.episodes + timestep.last(),\n",
        "            solved=solved_flag,\n",
        "        )\n",
        "        carry = (rng, stats, timestep, action, timestep.reward, hstate)\n",
        "        return carry\n",
        "\n",
        "    env_params = env_params.replace(puzzle=eval_puzzle)\n",
        "    timestep = env.eval_reset(env_params, rng)\n",
        "    prev_action = jnp.asarray(0)\n",
        "    prev_reward = jnp.asarray(0)\n",
        "    init_carry = (rng, RolloutStats(), timestep, prev_action, prev_reward, init_hstate)\n",
        "\n",
        "    final_carry = jax.lax.while_loop(_cond_fn, _body_fn, init_val=init_carry)\n",
        "    return final_carry[1]\n",
        "\n",
        "\n",
        "def meta_rollout(\n",
        "    rng: jax.Array,\n",
        "    env: Environment,\n",
        "    env_params: EnvParams,\n",
        "    eval_puzzle: PushWorldPuzzle,\n",
        "    train_state: TrainState,\n",
        "    init_hstate: jax.Array,\n",
        "    num_consecutive_episodes: int = 1,\n",
        ") -> MetaRolloutStats:\n",
        "    \"\"\"Rollout that tracks statistics for each individual episode.\"\"\"\n",
        "\n",
        "    def _cond_fn(carry):\n",
        "        rng, stats, timestep, prev_action, prev_reward, hstate, current_episode_reward, current_episode_length = carry\n",
        "        return jnp.less(stats.num_episodes_completed, num_consecutive_episodes)\n",
        "\n",
        "    def _body_fn(carry):\n",
        "        rng, stats, timestep, prev_action, prev_reward, hstate, current_episode_reward, current_episode_length = carry\n",
        "\n",
        "        rng, _rng = jax.random.split(rng)\n",
        "        dist, _, hstate = train_state.apply_fn(\n",
        "            train_state.params,\n",
        "            {\n",
        "                # We add single channel dimension to end of obs_img\n",
        "                \"obs_img\": timestep.observation[\"img\"][None, None, ...],\n",
        "                \"obs_goal\": timestep.observation[\"goal\"][None, None, ...],\n",
        "                \"prev_action\": prev_action[None, None, ...],\n",
        "                \"prev_reward\": prev_reward[None, None, ...],\n",
        "            },\n",
        "            hstate,\n",
        "        )\n",
        "        action = dist.sample(seed=_rng).squeeze()\n",
        "        timestep = env.step(env_params, timestep, action)\n",
        "\n",
        "        # Update current episode accumulators\n",
        "        current_episode_reward = current_episode_reward + timestep.reward\n",
        "        current_episode_length = current_episode_length + 1\n",
        "\n",
        "        # Check if episode ended\n",
        "        episode_ended = timestep.last()\n",
        "        solved_flag = ((timestep.reward == SUCCESS_REWARD) & (episode_ended == 1)).astype(jnp.int32)\n",
        "\n",
        "        # When episode ends, store the episode stats\n",
        "        episode_idx = stats.num_episodes_completed\n",
        "        new_episode_rewards = stats.episode_rewards.at[episode_idx].set(\n",
        "            jnp.where(episode_ended, current_episode_reward, stats.episode_rewards[episode_idx])\n",
        "        )\n",
        "        new_episode_lengths = stats.episode_lengths.at[episode_idx].set(\n",
        "            jnp.where(episode_ended, current_episode_length, stats.episode_lengths[episode_idx])\n",
        "        )\n",
        "        new_episode_solved = stats.episode_solved.at[episode_idx].set(\n",
        "            jnp.where(episode_ended, solved_flag, stats.episode_solved[episode_idx])\n",
        "        )\n",
        "\n",
        "        # Update stats\n",
        "        stats = stats.replace(\n",
        "            episode_rewards=new_episode_rewards,\n",
        "            episode_lengths=new_episode_lengths,\n",
        "            episode_solved=new_episode_solved,\n",
        "            total_reward=stats.total_reward + timestep.reward,\n",
        "            num_episodes_completed=stats.num_episodes_completed + episode_ended,\n",
        "        )\n",
        "\n",
        "        # Reset episode accumulators when episode ends\n",
        "        current_episode_reward = jnp.where(episode_ended, 0.0, current_episode_reward)\n",
        "        current_episode_length = jnp.where(episode_ended, 0, current_episode_length)\n",
        "\n",
        "        carry = (rng, stats, timestep, action, timestep.reward, hstate, current_episode_reward, current_episode_length)\n",
        "        return carry\n",
        "\n",
        "    # Initialize episode tracking arrays\n",
        "    episode_rewards = jnp.zeros(num_consecutive_episodes)\n",
        "    episode_lengths = jnp.zeros(num_consecutive_episodes, dtype=jnp.int32)\n",
        "    episode_solved = jnp.zeros(num_consecutive_episodes, dtype=jnp.int32)\n",
        "\n",
        "    initial_stats = MetaRolloutStats(\n",
        "        episode_rewards=episode_rewards,\n",
        "        episode_lengths=episode_lengths,\n",
        "        episode_solved=episode_solved,\n",
        "        total_reward=jnp.asarray(0.0),\n",
        "        num_episodes_completed=jnp.asarray(0),\n",
        "    )\n",
        "\n",
        "    env_params = env_params.replace(puzzle=eval_puzzle)\n",
        "    timestep = env.eval_reset(env_params, rng)\n",
        "    prev_action = jnp.asarray(0)\n",
        "    prev_reward = jnp.asarray(0)\n",
        "    current_episode_reward = jnp.asarray(0.0)\n",
        "    current_episode_length = jnp.asarray(0)\n",
        "\n",
        "    init_carry = (\n",
        "        rng,\n",
        "        initial_stats,\n",
        "        timestep,\n",
        "        prev_action,\n",
        "        prev_reward,\n",
        "        init_hstate,\n",
        "        current_episode_reward,\n",
        "        current_episode_length,\n",
        "    )\n",
        "\n",
        "    final_carry = jax.lax.while_loop(_cond_fn, _body_fn, init_val=init_carry)\n",
        "    return final_carry[1]"
      ]
    },
    {
      "cell_type": "markdown",
      "id": "e0f7090a",
      "metadata": {
        "id": "e0f7090a"
      },
      "source": [
        "## Training"
      ]
    },
    {
      "cell_type": "code",
      "execution_count": 5,
      "id": "e7e7b0de",
      "metadata": {
        "id": "e7e7b0de"
      },
      "outputs": [],
      "source": [
        "# this will be default in new jax versions anyway\n",
        "# jax.config.update(\"jax_threefry_partitionable\", True)\n",
        "\n",
        "\n",
        "@dataclass\n",
        "class TrainConfig:\n",
        "    project: str = \"PushWorld\"\n",
        "    group: str = \"default\"\n",
        "    name: str = \"single-task-ppo-pushworld\"\n",
        "    benchmark_id: str = \"level0_mini\"\n",
        "    track: bool = False\n",
        "    checkpoint_path: Optional[str] = None\n",
        "    upload_model: bool = False\n",
        "\n",
        "    train_test_same: bool = False\n",
        "    num_train: Optional[int] = None\n",
        "    num_test: Optional[int] = None\n",
        "\n",
        "    img_obs: bool = False\n",
        "    obs_emb_dim: int = 16\n",
        "    action_emb_dim: int = 16\n",
        "    rnn_hidden_dim: int = 1024\n",
        "    rnn_num_layers: int = 1\n",
        "    head_hidden_dim: int = 256\n",
        "    enable_bf16: bool = False\n",
        "    num_envs: int = 8192\n",
        "    num_steps: int = 16\n",
        "    update_epochs: int = 1\n",
        "    num_minibatches: int = 16\n",
        "    total_timesteps: int = 1_000_000\n",
        "    lr: float = 0.001\n",
        "    clip_eps: float = 0.2\n",
        "    gamma: float = 0.99\n",
        "    gae_lambda: float = 0.95\n",
        "    ent_coef: float = 0.01\n",
        "    vf_coef: float = 0.5\n",
        "    max_grad_norm: float = 0.5\n",
        "    eval_episodes: int = 80\n",
        "    seed: int = 42\n",
        "    puzzle_seed: int = 42\n",
        "    eval_seed: int = 42\n",
        "\n",
        "    def __post_init__(self):\n",
        "        num_devices = jax.local_device_count()\n",
        "        self.num_envs_per_device = self.num_envs // num_devices\n",
        "        self.total_timesteps_per_device = self.total_timesteps // num_devices\n",
        "        self.eval_episodes_per_device = self.eval_episodes // num_devices\n",
        "        assert self.num_envs % num_devices == 0\n",
        "        self.num_updates = self.total_timesteps_per_device // self.num_steps // self.num_envs_per_device\n",
        "        print(f\"Num devices: {num_devices}, Num updates: {self.num_updates}\")\n",
        "\n",
        "\n",
        "def make_states(config: TrainConfig):\n",
        "    # for learning rate scheduling\n",
        "    def linear_schedule(count):\n",
        "        frac = 1.0 - (count // (config.num_minibatches * config.update_epochs)) / config.num_updates\n",
        "        return config.lr * frac\n",
        "\n",
        "    env = SingleTaskPushWorldEnvironment()\n",
        "    env_params = env.default_params()\n",
        "    env = GymAutoResetWrapper(env)\n",
        "    env = GoalObservationWrapper(env)\n",
        "\n",
        "    benchmark = pushworld.load_benchmark(config.benchmark_id)\n",
        "\n",
        "    puzzle_rng = jax.random.key(config.puzzle_seed)\n",
        "    train_rng, test_rng = jax.random.split(puzzle_rng)\n",
        "\n",
        "    if config.num_train is not None:\n",
        "        assert (\n",
        "            config.num_train <= benchmark.num_train_puzzles()\n",
        "        ), \"num_train is larger than num train available in benchmark\"\n",
        "        perm = jax.random.permutation(train_rng, benchmark.num_train_puzzles())\n",
        "        idxs = perm[: config.num_train]\n",
        "        benchmark = benchmark.replace(train_puzzles=benchmark.train_puzzles[idxs])\n",
        "    else:\n",
        "        config.num_train = benchmark.num_train_puzzles()\n",
        "\n",
        "    if config.num_test is not None:\n",
        "        assert (\n",
        "            config.num_test <= benchmark.num_test_puzzles()\n",
        "        ), \"num_test is larger than num test available in benchmark\"\n",
        "        perm = jax.random.permutation(test_rng, benchmark.num_test_puzzles())\n",
        "        idxs = perm[: config.num_test]\n",
        "        benchmark = benchmark.replace(test_puzzles=benchmark.test_puzzles[idxs])\n",
        "    else:\n",
        "        config.num_test = benchmark.num_test_puzzles()\n",
        "\n",
        "    if config.train_test_same:\n",
        "        benchmark = benchmark.replace(test_puzzles=benchmark.train_puzzles)\n",
        "        config.num_test = config.num_train\n",
        "\n",
        "\n",
        "    rng = jax.random.key(config.seed)\n",
        "    rng, _rng = jax.random.split(rng)\n",
        "\n",
        "    network = ActorCriticRNN(\n",
        "        num_actions=env.num_actions(env_params),\n",
        "        obs_emb_dim=config.obs_emb_dim,\n",
        "        action_emb_dim=config.action_emb_dim,\n",
        "        rnn_hidden_dim=config.rnn_hidden_dim,\n",
        "        rnn_num_layers=config.rnn_num_layers,\n",
        "        head_hidden_dim=config.head_hidden_dim,\n",
        "        img_obs=config.img_obs,\n",
        "        dtype=jnp.bfloat16 if config.enable_bf16 else None,\n",
        "    )\n",
        "\n",
        "    shapes = env.observation_shape(env_params)\n",
        "\n",
        "    init_obs = {\n",
        "        \"obs_img\": jnp.zeros((config.num_envs_per_device, 1, *shapes[\"img\"])),\n",
        "        \"obs_goal\": jnp.zeros((config.num_envs_per_device, 1, shapes[\"goal\"])),\n",
        "        \"prev_action\": jnp.zeros((config.num_envs_per_device, 1), dtype=jnp.int32),\n",
        "        \"prev_reward\": jnp.zeros((config.num_envs_per_device, 1)),\n",
        "    }\n",
        "    init_hstate = network.initialize_carry(batch_size=config.num_envs_per_device)\n",
        "\n",
        "    network_params = network.init(_rng, init_obs, init_hstate)\n",
        "    tx = optax.chain(\n",
        "        optax.clip_by_global_norm(config.max_grad_norm),\n",
        "        optax.inject_hyperparams(optax.adam)(learning_rate=linear_schedule, eps=1e-8),  # eps=1e-5\n",
        "    )\n",
        "    train_state = TrainState.create(apply_fn=network.apply, params=network_params, tx=tx)\n",
        "\n",
        "    return rng, env, env_params, benchmark, init_hstate, train_state\n",
        "\n",
        "\n",
        "def make_train(\n",
        "    env: Environment,\n",
        "    env_params: EnvParams,\n",
        "    benchmark: Benchmark,\n",
        "    config: TrainConfig,\n",
        "):\n",
        "    @partial(jax.pmap, axis_name=\"devices\")\n",
        "    def train(\n",
        "        rng: jax.Array,\n",
        "        train_state: TrainState,\n",
        "        init_hstate: jax.Array,\n",
        "    ):\n",
        "        rng, _rng = jax.random.split(rng)\n",
        "        reset_rng = jax.random.split(_rng, config.num_envs_per_device)\n",
        "\n",
        "        puzzle_env_params = env_params.replace(benchmark=benchmark)\n",
        "\n",
        "        timestep = jax.vmap(env.reset, in_axes=(None, 0))(puzzle_env_params, reset_rng)\n",
        "        prev_action = jnp.zeros(config.num_envs_per_device, dtype=jnp.int32)\n",
        "        prev_reward = jnp.zeros(config.num_envs_per_device)\n",
        "\n",
        "        # TRAIN LOOP\n",
        "        def _update_step(runner_state, update_idx):\n",
        "            # jax.debug.print(\"Update step: {}\", update_idx)\n",
        "\n",
        "            # COLLECT TRAJECTORIES\n",
        "            def _env_step(runner_state, _):\n",
        "                rng, train_state, prev_timestep, prev_action, prev_reward, prev_hstate = runner_state\n",
        "\n",
        "                rng, _rng = jax.random.split(rng)\n",
        "                dist, value, hstate = train_state.apply_fn(\n",
        "                    train_state.params,\n",
        "                    {\n",
        "                        # [batch_size, seq_len=1, ...]\n",
        "                        \"obs_img\": prev_timestep.observation[\"img\"][:, None],\n",
        "                        \"obs_goal\": prev_timestep.observation[\"goal\"][:, None],\n",
        "                        \"prev_action\": prev_action[:, None],\n",
        "                        \"prev_reward\": prev_reward[:, None],\n",
        "                    },\n",
        "                    prev_hstate,\n",
        "                )\n",
        "                action, log_prob = dist.sample_and_log_prob(seed=_rng)\n",
        "                action, value, log_prob = action.squeeze(1), value.squeeze(1), log_prob.squeeze(1)\n",
        "\n",
        "                timestep = jax.vmap(env.step, in_axes=(None, 0, 0))(puzzle_env_params, prev_timestep, action)\n",
        "                transition = Transition(\n",
        "                    done=timestep.last(),\n",
        "                    action=action,\n",
        "                    value=value,\n",
        "                    reward=timestep.reward,\n",
        "                    log_prob=log_prob,\n",
        "                    obs=prev_timestep.observation[\"img\"],\n",
        "                    goal=prev_timestep.observation[\"goal\"],\n",
        "                    prev_action=prev_action,\n",
        "                    prev_reward=prev_reward,\n",
        "                )\n",
        "                runner_state = (rng, train_state, timestep, action, timestep.reward, hstate)\n",
        "                return runner_state, transition\n",
        "\n",
        "            initial_hstate = runner_state[-1]\n",
        "            runner_state, transitions = jax.lax.scan(_env_step, runner_state, None, config.num_steps)\n",
        "\n",
        "            rng, train_state, timestep, prev_action, prev_reward, hstate = runner_state\n",
        "            _, last_val, _ = train_state.apply_fn(\n",
        "                train_state.params,\n",
        "                {\n",
        "                    \"obs_img\": timestep.observation[\"img\"][:, None],\n",
        "                    \"obs_goal\": timestep.observation[\"goal\"][:, None],\n",
        "                    \"prev_action\": prev_action[:, None],\n",
        "                    \"prev_reward\": prev_reward[:, None],\n",
        "                },\n",
        "                hstate,\n",
        "            )\n",
        "            advantages, targets = calculate_gae(transitions, last_val.squeeze(1), config.gamma, config.gae_lambda)\n",
        "\n",
        "            # UPDATE NETWORK\n",
        "            def _update_epoch(update_state, _):\n",
        "                def _update_minbatch(train_state, batch_info):\n",
        "                    init_hstate, transitions, advantages, targets = batch_info\n",
        "                    new_train_state, update_info = ppo_update_networks(\n",
        "                        train_state=train_state,\n",
        "                        transitions=transitions,\n",
        "                        init_hstate=init_hstate.squeeze(1),\n",
        "                        advantages=advantages,\n",
        "                        targets=targets,\n",
        "                        clip_eps=config.clip_eps,\n",
        "                        vf_coef=config.vf_coef,\n",
        "                        ent_coef=config.ent_coef,\n",
        "                    )\n",
        "                    return new_train_state, update_info\n",
        "\n",
        "                rng, train_state, init_hstate, transitions, advantages, targets = update_state\n",
        "\n",
        "                rng, _rng = jax.random.split(rng)\n",
        "                permutation = jax.random.permutation(_rng, config.num_envs_per_device)\n",
        "                batch = (init_hstate, transitions, advantages, targets)\n",
        "                batch = jtu.tree_map(lambda x: x.swapaxes(0, 1), batch)\n",
        "\n",
        "                shuffled_batch = jtu.tree_map(lambda x: jnp.take(x, permutation, axis=0), batch)\n",
        "                minibatches = jtu.tree_map(\n",
        "                    lambda x: jnp.reshape(x, (config.num_minibatches, -1) + x.shape[1:]), shuffled_batch\n",
        "                )\n",
        "                train_state, update_info = jax.lax.scan(_update_minbatch, train_state, minibatches)\n",
        "\n",
        "                update_state = (rng, train_state, init_hstate, transitions, advantages, targets)\n",
        "                return update_state, update_info\n",
        "\n",
        "            init_hstate = initial_hstate[None, :]\n",
        "            update_state = (rng, train_state, init_hstate, transitions, advantages, targets)\n",
        "            update_state, loss_info = jax.lax.scan(_update_epoch, update_state, None, config.update_epochs)\n",
        "\n",
        "            loss_info = jtu.tree_map(lambda x: x.mean(-1).mean(-1), loss_info)\n",
        "\n",
        "            rng, train_state = update_state[:2]\n",
        "\n",
        "            assert config.num_test is not None, \"num_test must be set for evaluation\"\n",
        "            assert config.num_train is not None, \"num_train must be set for evaluation\"\n",
        "            rng, _rng = jax.random.split(rng)\n",
        "            eval_rng = jax.random.split(_rng, num=config.num_test)\n",
        "\n",
        "            eval_puzzles = benchmark.get_test_puzzles()\n",
        "\n",
        "            eval_stats = jax.vmap(rollout, in_axes=(0, None, None, 0, None, None, None))(\n",
        "                eval_rng,\n",
        "                env,\n",
        "                puzzle_env_params,\n",
        "                eval_puzzles,\n",
        "                train_state,\n",
        "                # TODO: make this as a static method mb?\n",
        "                jnp.zeros((1, config.rnn_num_layers, config.rnn_hidden_dim)),\n",
        "                1,\n",
        "            )\n",
        "            eval_stats = jax.lax.pmean(eval_stats, axis_name=\"devices\")\n",
        "            loss_info.update(\n",
        "                {\n",
        "                    \"eval/returns\": eval_stats.reward.mean(0),\n",
        "                    \"eval/lengths\": eval_stats.length.mean(0),\n",
        "                    \"eval/solved_percentage\": eval_stats.solved.sum(0) / config.num_test,\n",
        "                    \"lr\": train_state.opt_state[-1].hyperparams[\"learning_rate\"],\n",
        "                }\n",
        "            )\n",
        "            runner_state = (rng, train_state, timestep, prev_action, prev_reward, hstate)\n",
        "            return runner_state, loss_info\n",
        "\n",
        "        runner_state = (rng, train_state, timestep, prev_action, prev_reward, init_hstate)\n",
        "        update_indices = jnp.arange(config.num_updates)\n",
        "        runner_state, loss_info = jax.lax.scan(_update_step, runner_state, update_indices, config.num_updates)\n",
        "        return {\"runner_state\": runner_state[1], \"loss_info\": loss_info}\n",
        "\n",
        "    return train\n",
        "\n",
        "\n",
        "def train(config: TrainConfig):\n",
        "    # removing existing checkpoints if any\n",
        "    if config.checkpoint_path is not None and os.path.exists(config.checkpoint_path):\n",
        "        shutil.rmtree(config.checkpoint_path)\n",
        "\n",
        "    rng, env, env_params, benchmark, init_hstate, train_state = make_states(config)\n",
        "\n",
        "    rng = jax.random.split(rng, num=jax.local_device_count())\n",
        "    train_state = replicate(train_state, jax.local_devices())\n",
        "    init_hstate = replicate(init_hstate, jax.local_devices())\n",
        "\n",
        "    print(\"Compiling...\")\n",
        "    t = time.time()\n",
        "    train_fn = make_train(env, env_params, benchmark, config)\n",
        "    train_fn = train_fn.lower(rng, train_state, init_hstate).compile()\n",
        "    elapsed_time = time.time() - t\n",
        "    print(f\"Done in {elapsed_time:.2f}s.\")\n",
        "\n",
        "    print(\"Training...\")\n",
        "    t = time.time()\n",
        "    train_info = jax.block_until_ready(train_fn(rng, train_state, init_hstate))\n",
        "    elapsed_time = time.time() - t\n",
        "    print(f\"Done in {elapsed_time:.2f}s\")\n",
        "\n",
        "    return unreplicate(train_info), elapsed_time"
      ]
    },
    {
      "cell_type": "markdown",
      "id": "ffcec185",
      "metadata": {
        "id": "ffcec185"
      },
      "source": [
        "## Processing"
      ]
    },
    {
      "cell_type": "code",
      "execution_count": 6,
      "id": "771ab09c",
      "metadata": {
        "id": "771ab09c"
      },
      "outputs": [],
      "source": [
        "def processing(config: TrainConfig, train_info, elapsed_time):\n",
        "    print(\"Logging...\")\n",
        "    loss_info = train_info[\"loss_info\"]\n",
        "\n",
        "    if config.track or config.upload_model:\n",
        "      run = wandb.init(\n",
        "          project=config.project,\n",
        "          group=config.group,\n",
        "          name=config.name,\n",
        "          config=asdict(config),\n",
        "          save_code=True,\n",
        "      )\n",
        "\n",
        "    if config.track:\n",
        "        total_transitions = 0\n",
        "        for i in range(config.num_updates):\n",
        "            total_transitions += config.num_steps * config.num_envs_per_device * jax.local_device_count()\n",
        "            info = jtu.tree_map(lambda x: x[i].item(), loss_info)\n",
        "            info[\"transitions\"] = total_transitions\n",
        "            wandb.log(info)\n",
        "\n",
        "        run.summary[\"training_time\"] = elapsed_time\n",
        "        run.summary[\"steps_per_second\"] = (config.total_timesteps_per_device * jax.local_device_count()) / elapsed_time\n",
        "\n",
        "    if config.checkpoint_path is not None:\n",
        "        checkpoint = {\"config\": asdict(config), \"params\": train_info[\"runner_state\"].params}\n",
        "        orbax_checkpointer = orbax.checkpoint.PyTreeCheckpointer()\n",
        "        save_args = orbax_utils.save_args_from_target(checkpoint)\n",
        "        orbax_checkpointer.save(config.checkpoint_path, checkpoint, save_args=save_args)\n",
        "\n",
        "        if config.upload_model:\n",
        "            artifact = wandb.Artifact(\n",
        "                name=f\"model-checkpoint-{run.id}\", type=\"model\", description=\"Trained model checkpoint\"\n",
        "            )\n",
        "            artifact.add_dir(config.checkpoint_path)  # Add entire checkpoint directory\n",
        "            run.log_artifact(artifact)\n",
        "\n",
        "    if config.track or config.upload_model:\n",
        "      run.finish()\n",
        "\n",
        "    print(\"Final return: \", float(loss_info[\"eval/returns\"][-1]))\n",
        "    print(\"Final solved percentage: \", float(loss_info[\"eval/solved_percentage\"][-1]))"
      ]
    },
    {
      "cell_type": "markdown",
      "id": "5f529fc8",
      "metadata": {
        "id": "5f529fc8"
      },
      "source": [
        "## Evaluation"
      ]
    },
    {
      "cell_type": "code",
      "execution_count": 7,
      "id": "5ee0e4e7",
      "metadata": {
        "id": "5ee0e4e7"
      },
      "outputs": [],
      "source": [
        "def hex_to_rgb(hex_string: str):\n",
        "    \"\"\"Converts a standard 6-digit hex color into a tuple of decimal\n",
        "    (red, green, blue) values.\"\"\"\n",
        "    return tuple(int(hex_string[i : i + 2], 16) for i in (0, 2, 4))\n",
        "\n",
        "\n",
        "symbol_to_rgb = {\n",
        "    0: hex_to_rgb(\"FFFFFF\"),  # empty → white\n",
        "    1: hex_to_rgb(\"00DC00\"),  # agent → \"00DC00\"\n",
        "    2: hex_to_rgb(\"469BFF\"),  # movable → \"469BFF\"\n",
        "    3: hex_to_rgb(\"DC0000\"),  # movable_goal → \"DC0000\"\n",
        "    4: hex_to_rgb(\"0A0A0A\"),  # wall → \"0A0A0A\"\n",
        "}\n",
        "\n",
        "\n",
        "def text_to_rgb(goal_pos, grid):\n",
        "    \"\"\"grid: 2-D array of str, shape (H, W)\"\"\"\n",
        "    h, w = grid.shape\n",
        "    img = np.zeros((h, w, 3), dtype=np.uint8)\n",
        "    for sym, rgb in symbol_to_rgb.items():\n",
        "        mask = grid == sym\n",
        "        img[mask] = rgb\n",
        "\n",
        "    if grid[goal_pos[1], goal_pos[0]] == Tiles.EMPTY:\n",
        "        img[goal_pos[1], goal_pos[0]] = hex_to_rgb(\"FF7F7F\")  # light red\n",
        "\n",
        "    # upscale (optional) so each tile is, say, 16×16 pixels\n",
        "    img = np.kron(img, np.ones((64, 64, 1), dtype=np.uint8))\n",
        "    return img"
      ]
    },
    {
      "cell_type": "code",
      "execution_count": 8,
      "id": "7376d492",
      "metadata": {
        "id": "7376d492"
      },
      "outputs": [],
      "source": [
        "def evaluate_single(train_info, config, puzzles, video_name, eval_seed):\n",
        "    # We're only going to sample from test anyway\n",
        "    benchmark = Benchmark(\n",
        "        train_puzzles=puzzles,\n",
        "        test_puzzles=puzzles,\n",
        "    )\n",
        "\n",
        "    env = SingleTaskPushWorldEnvironment()\n",
        "    env_params = env.default_params()\n",
        "    env_params = env_params.replace(benchmark=benchmark)\n",
        "    env = GoalObservationWrapper(env)\n",
        "\n",
        "    params = train_info[\"runner_state\"].params\n",
        "    model = ActorCriticRNN(\n",
        "        num_actions=env.num_actions(env_params),\n",
        "        action_emb_dim=config.action_emb_dim,\n",
        "        rnn_hidden_dim=config.rnn_hidden_dim,\n",
        "        rnn_num_layers=config.rnn_num_layers,\n",
        "        head_hidden_dim=config.head_hidden_dim,\n",
        "        img_obs=config.img_obs,\n",
        "    )\n",
        "\n",
        "    # jitting all functions\n",
        "    apply_fn, reset_fn, step_fn = jax.jit(model.apply), jax.jit(env.reset), jax.jit(env.step)\n",
        "\n",
        "    # for logging\n",
        "    total_reward = 0\n",
        "    rendered_imgs = []\n",
        "\n",
        "    rng = jax.random.key(eval_seed)\n",
        "    rng, _rng = jax.random.split(rng)\n",
        "\n",
        "    # initial inputs\n",
        "    hidden = model.initialize_carry(1)\n",
        "    prev_reward = jnp.asarray(0)\n",
        "    prev_action = jnp.asarray(0)\n",
        "\n",
        "    timestep = reset_fn(env_params, _rng)\n",
        "    rendered_imgs.append(text_to_rgb(timestep.state.goal_pos, timestep.observation[\"img\"].squeeze(-1)))\n",
        "\n",
        "    while not timestep.last():\n",
        "        rng, _rng = jax.random.split(rng)\n",
        "        dist, _, hidden = apply_fn(\n",
        "            params,\n",
        "            {\n",
        "                \"obs_img\": timestep.observation[\"img\"][None, None, ...],\n",
        "                \"obs_goal\": timestep.observation[\"goal\"][None, None, ...],\n",
        "                \"prev_action\": prev_action[None, None, ...],\n",
        "                \"prev_reward\": prev_reward[None, None, ...],\n",
        "            },\n",
        "            hidden,\n",
        "        )\n",
        "        action = dist.sample(seed=_rng).squeeze()\n",
        "\n",
        "        timestep = step_fn(env_params, timestep, action)\n",
        "        prev_action = action\n",
        "        prev_reward = timestep.reward\n",
        "\n",
        "        total_reward += timestep.reward.item()\n",
        "        rendered_imgs.append(text_to_rgb(timestep.state.goal_pos, timestep.observation[\"img\"].squeeze(-1)))\n",
        "\n",
        "    imageio.mimsave(f\"{video_name}.mp4\", rendered_imgs, fps=16, format=\"mp4\")\n",
        "    return total_reward"
      ]
    },
    {
      "cell_type": "markdown",
      "id": "4e375056",
      "metadata": {
        "id": "4e375056"
      },
      "source": [
        "## Run Training"
      ]
    },
    {
      "cell_type": "markdown",
      "source": [
        "## Experiments"
      ],
      "metadata": {
        "id": "LB6RyDOlm80B"
      },
      "id": "LB6RyDOlm80B"
    },
    {
      "cell_type": "markdown",
      "source": [
        "### PPO on Single-puzzle PushWorld"
      ],
      "metadata": {
        "id": "tMZU6vPtm94v"
      },
      "id": "tMZU6vPtm94v"
    },
    {
      "cell_type": "code",
      "source": [
        "# should take ~9min on one T4, ~5min on two T4 gpus\n",
        "config = TrainConfig(\n",
        "    benchmark_id=\"level0_mini\",\n",
        "    total_timesteps=500_000,\n",
        "    num_envs=128,\n",
        "    num_steps=100,\n",
        "    num_train=1,\n",
        "    train_test_same=True,\n",
        "    # W&B\n",
        "    name=\"ppo-single-puzzle-pushworld\",\n",
        "    track=True,\n",
        "    checkpoint_path=\"/checkpoint\",\n",
        "    upload_model=True\n",
        ")\n",
        "train_info, elapsed_time = train(config)\n",
        "processing(config, train_info, elapsed_time)"
      ],
      "metadata": {
        "colab": {
          "base_uri": "https://localhost:8080/",
          "height": 946
        },
        "id": "FGSacQZonMqk",
        "outputId": "57328a92-b70e-4775-f299-a18d1e0c9c2d"
      },
      "id": "FGSacQZonMqk",
      "execution_count": null,
      "outputs": [
        {
          "output_type": "stream",
          "name": "stdout",
          "text": [
            "Num devices: 1, Num updates: 39\n",
            "Compiling...\n",
            "Done in 23.90s.\n",
            "Training...\n",
            "Done in 9.83s\n",
            "Logging...\n"
          ]
        },
        {
          "output_type": "display_data",
          "data": {
            "text/plain": [
              "<IPython.core.display.HTML object>"
            ],
            "text/html": [
              "Tracking run with wandb version 0.20.1"
            ]
          },
          "metadata": {}
        },
        {
          "output_type": "display_data",
          "data": {
            "text/plain": [
              "<IPython.core.display.HTML object>"
            ],
            "text/html": [
              "Run data is saved locally in <code>/content/wandb/run-20250617_030823-d4q4u5u9</code>"
            ]
          },
          "metadata": {}
        },
        {
          "output_type": "display_data",
          "data": {
            "text/plain": [
              "<IPython.core.display.HTML object>"
            ],
            "text/html": [
              "Syncing run <strong><a href='https://wandb.ai/kimyoungjin-nus/PushWorld/runs/d4q4u5u9' target=\"_blank\">ppo-single-puzzle-pushworld</a></strong> to <a href='https://wandb.ai/kimyoungjin-nus/PushWorld' target=\"_blank\">Weights & Biases</a> (<a href='https://wandb.me/developer-guide' target=\"_blank\">docs</a>)<br>"
            ]
          },
          "metadata": {}
        },
        {
          "output_type": "display_data",
          "data": {
            "text/plain": [
              "<IPython.core.display.HTML object>"
            ],
            "text/html": [
              " View project at <a href='https://wandb.ai/kimyoungjin-nus/PushWorld' target=\"_blank\">https://wandb.ai/kimyoungjin-nus/PushWorld</a>"
            ]
          },
          "metadata": {}
        },
        {
          "output_type": "display_data",
          "data": {
            "text/plain": [
              "<IPython.core.display.HTML object>"
            ],
            "text/html": [
              " View run at <a href='https://wandb.ai/kimyoungjin-nus/PushWorld/runs/d4q4u5u9' target=\"_blank\">https://wandb.ai/kimyoungjin-nus/PushWorld/runs/d4q4u5u9</a>"
            ]
          },
          "metadata": {}
        },
        {
          "output_type": "stream",
          "name": "stderr",
          "text": [
            "\u001b[34m\u001b[1mwandb\u001b[0m: Adding directory to artifact (/checkpoint)... Done. 0.0s\n"
          ]
        },
        {
          "output_type": "display_data",
          "data": {
            "text/plain": [
              "<IPython.core.display.HTML object>"
            ],
            "text/html": []
          },
          "metadata": {}
        },
        {
          "output_type": "display_data",
          "data": {
            "text/plain": [
              "<IPython.core.display.HTML object>"
            ],
            "text/html": [
              "<br>    <style><br>        .wandb-row {<br>            display: flex;<br>            flex-direction: row;<br>            flex-wrap: wrap;<br>            justify-content: flex-start;<br>            width: 100%;<br>        }<br>        .wandb-col {<br>            display: flex;<br>            flex-direction: column;<br>            flex-basis: 100%;<br>            flex: 1;<br>            padding: 10px;<br>        }<br>    </style><br><div class=\"wandb-row\"><div class=\"wandb-col\"><h3>Run history:</h3><br/><table class=\"wandb\"><tr><td>actor_loss</td><td>▇▅▆▅▆█▅▁▄▇▇▇▇▇▇▇▇▇▇▇▇▇▇▇▇▇▇▇▇▇▇▇▇▇▇▇▇▇▇</td></tr><tr><td>entropy</td><td>████▇▇▇▅▄▂▁▁▁▁▁▁▁▁▁▁▁▁▁▁▁▁▁▁▁▁▁▁▁▁▁▁▁▁▁</td></tr><tr><td>eval/lengths</td><td>▁▂█▂▂▁▁▁▁▁▁▁▁▁▁▁▁▁▁▁▁▁▁▁▁▁▁▁▁▁▁▁▁▁▁▁▁▁▁</td></tr><tr><td>eval/returns</td><td>██▁████████████████████████████████████</td></tr><tr><td>eval/solved_percentage</td><td>██▁████████████████████████████████████</td></tr><tr><td>lr</td><td>███▇▇▇▇▇▇▆▆▆▆▆▅▅▅▅▅▄▄▄▄▄▄▃▃▃▃▃▂▂▂▂▂▂▁▁▁</td></tr><tr><td>total_loss</td><td>▂▁▂▂▂▄▅▇█▇▅▄▂▁▁▁▁▁▁▁▁▁▁▁▁▁▁▁▁▁▁▁▁▁▁▁▁▁▁</td></tr><tr><td>transitions</td><td>▁▁▁▂▂▂▂▂▂▃▃▃▃▃▄▄▄▄▄▅▅▅▅▅▅▆▆▆▆▆▇▇▇▇▇▇███</td></tr><tr><td>value_loss</td><td>▂▂▂▂▂▄▅▇█▇▅▄▂▁▁▁▁▁▁▁▁▁▁▁▁▁▁▁▁▁▁▁▁▁▁▁▁▁▁</td></tr></table><br/></div><div class=\"wandb-col\"><h3>Run summary:</h3><br/><table class=\"wandb\"><tr><td>actor_loss</td><td>-0.0</td></tr><tr><td>entropy</td><td>0.00026</td></tr><tr><td>eval/lengths</td><td>3</td></tr><tr><td>eval/returns</td><td>9.98</td></tr><tr><td>eval/solved_percentage</td><td>1</td></tr><tr><td>lr</td><td>3e-05</td></tr><tr><td>steps_per_second</td><td>50868.22023</td></tr><tr><td>total_loss</td><td>-0.0</td></tr><tr><td>training_time</td><td>9.82932</td></tr><tr><td>transitions</td><td>499200</td></tr><tr><td>value_loss</td><td>0.0</td></tr></table><br/></div></div>"
            ]
          },
          "metadata": {}
        },
        {
          "output_type": "display_data",
          "data": {
            "text/plain": [
              "<IPython.core.display.HTML object>"
            ],
            "text/html": [
              " View run <strong style=\"color:#cdcd00\">ppo-single-puzzle-pushworld</strong> at: <a href='https://wandb.ai/kimyoungjin-nus/PushWorld/runs/d4q4u5u9' target=\"_blank\">https://wandb.ai/kimyoungjin-nus/PushWorld/runs/d4q4u5u9</a><br> View project at: <a href='https://wandb.ai/kimyoungjin-nus/PushWorld' target=\"_blank\">https://wandb.ai/kimyoungjin-nus/PushWorld</a><br>Synced 5 W&B file(s), 0 media file(s), 18 artifact file(s) and 0 other file(s)"
            ]
          },
          "metadata": {}
        },
        {
          "output_type": "display_data",
          "data": {
            "text/plain": [
              "<IPython.core.display.HTML object>"
            ],
            "text/html": [
              "Find logs at: <code>./wandb/run-20250617_030823-d4q4u5u9/logs</code>"
            ]
          },
          "metadata": {}
        },
        {
          "output_type": "stream",
          "name": "stdout",
          "text": [
            "Final return:  9.979999542236328\n",
            "Final solved percentage:  1.0\n"
          ]
        }
      ]
    },
    {
      "cell_type": "code",
      "source": [
        "plt.figure()\n",
        "plt.plot(jnp.arange(config.num_updates), train_info[\"loss_info\"][\"eval/returns\"]);\n",
        "plt.xlabel(\"Meta-update step\")\n",
        "plt.ylabel(\"Returns on test set\")\n",
        "\n",
        "plt.figure()\n",
        "plt.plot(jnp.arange(config.num_updates), train_info[\"loss_info\"][\"eval/solved_percentage\"]);\n",
        "plt.xlabel(\"Meta-update step\")\n",
        "plt.ylabel(\"Percentage of solved test puzzles\")"
      ],
      "metadata": {
        "colab": {
          "base_uri": "https://localhost:8080/",
          "height": 933
        },
        "id": "ryZR6OLy22vf",
        "outputId": "478bf078-f39c-49c4-cb21-1082e7b0b489"
      },
      "id": "ryZR6OLy22vf",
      "execution_count": null,
      "outputs": [
        {
          "output_type": "execute_result",
          "data": {
            "text/plain": [
              "Text(0, 0.5, 'Percentage of solved test puzzles')"
            ]
          },
          "metadata": {},
          "execution_count": 40
        },
        {
          "output_type": "stream",
          "name": "stderr",
          "text": [
            "ERROR:asyncio:Task was destroyed but it is pending!\n",
            "task: <Task cancelling name='Task-760' coro=<Event.wait() running at /usr/lib/python3.11/asyncio/locks.py:213> wait_for=<Future cancelled>>\n"
          ]
        },
        {
          "output_type": "display_data",
          "data": {
            "text/plain": [
              "<Figure size 640x480 with 1 Axes>"
            ],
            "image/png": "[encoded data removed]"
          },
          "metadata": {}
        },
        {
          "output_type": "display_data",
          "data": {
            "text/plain": [
              "<Figure size 640x480 with 1 Axes>"
            ],
            "image/png": "[encoded data removed]"
          },
          "metadata": {}
        }
      ]
    },
    {
      "cell_type": "code",
      "source": [
        "benchmark = pushworld.load_benchmark(config.benchmark_id)\n",
        "\n",
        "puzzle_rng = jax.random.key(config.puzzle_seed)\n",
        "train_rng, test_rng = jax.random.split(puzzle_rng)\n",
        "\n",
        "perm = jax.random.permutation(train_rng, benchmark.num_train_puzzles())\n",
        "idxs = perm[: config.num_train]\n",
        "puzzles = benchmark.train_puzzles[idxs]"
      ],
      "metadata": {
        "id": "Nu0spaYTop_Q"
      },
      "id": "Nu0spaYTop_Q",
      "execution_count": null,
      "outputs": []
    },
    {
      "cell_type": "code",
      "source": [
        "name = \"single_task_ppo\"\n",
        "reward = evaluate_single(train_info, config, puzzles, name, 42)\n",
        "print(\"Reward: \", reward)\n",
        "Video(f\"{name}.mp4\", embed=True)"
      ],
      "metadata": {
        "colab": {
          "base_uri": "https://localhost:8080/",
          "height": 413
        },
        "id": "aejddIoMoqPb",
        "outputId": "4294659f-99a0-4826-b85b-7fb0752f499c"
      },
      "id": "aejddIoMoqPb",
      "execution_count": null,
      "outputs": [
        {
          "output_type": "stream",
          "name": "stdout",
          "text": [
            "Reward:  9.980000000447035\n"
          ]
        },
        {
          "output_type": "stream",
          "name": "stderr",
          "text": [
            "/usr/lib/python3.11/subprocess.py:1885: RuntimeWarning: os.fork() was called. os.fork() is incompatible with multithreaded code, and JAX is multithreaded, so this will likely lead to a deadlock.\n",
            "  self.pid = _fork_exec(\n"
          ]
        },
        {
          "output_type": "execute_result",
          "data": {
            "text/plain": [
              "<IPython.core.display.Video object>"
            ],
            "text/html": [
              "<video controls  >\n",
              " <source src=\"data:video/mp4;base64,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\" type=\"video/mp4\">\n",
              " Your browser does not support the video tag.\n",
              " </video>"
            ]
          },
          "metadata": {},
          "execution_count": 42
        }
      ]
    },
    {
      "cell_type": "markdown",
      "source": [
        "### PPO on Multiple-puzzle PushWorld"
      ],
      "metadata": {
        "id": "Y7hqQ_HcnCD6"
      },
      "id": "Y7hqQ_HcnCD6"
    },
    {
      "cell_type": "code",
      "source": [
        "# should take ~9min on one T4, ~5min on two T4 gpus\n",
        "config = TrainConfig(\n",
        "    benchmark_id=\"level0_mini\",\n",
        "    total_timesteps=10_000_000,\n",
        "    num_envs=2048,\n",
        "    num_steps=100,\n",
        "    num_train=10,\n",
        "    train_test_same=True,\n",
        "    # W&B\n",
        "    name=\"ppo-10-puzzles-pushworld\",\n",
        "    track=True,\n",
        "    checkpoint_path=\"/checkpoint\",\n",
        "    upload_model=True\n",
        ")\n",
        "train_info, elapsed_time = train(config)\n",
        "processing(config, train_info, elapsed_time)"
      ],
      "metadata": {
        "colab": {
          "base_uri": "https://localhost:8080/",
          "height": 946
        },
        "id": "yPhPQgl108ol",
        "outputId": "70e5bece-71d1-4113-a881-37cb61dbab85"
      },
      "id": "yPhPQgl108ol",
      "execution_count": null,
      "outputs": [
        {
          "output_type": "stream",
          "name": "stdout",
          "text": [
            "Num devices: 1, Num updates: 48\n",
            "Compiling...\n",
            "Done in 25.33s.\n",
            "Training...\n",
            "Done in 23.20s\n",
            "Logging...\n"
          ]
        },
        {
          "output_type": "display_data",
          "data": {
            "text/plain": [
              "<IPython.core.display.HTML object>"
            ],
            "text/html": [
              "Tracking run with wandb version 0.20.1"
            ]
          },
          "metadata": {}
        },
        {
          "output_type": "display_data",
          "data": {
            "text/plain": [
              "<IPython.core.display.HTML object>"
            ],
            "text/html": [
              "Run data is saved locally in <code>/content/wandb/run-20250617_031049-c9ypiwtu</code>"
            ]
          },
          "metadata": {}
        },
        {
          "output_type": "display_data",
          "data": {
            "text/plain": [
              "<IPython.core.display.HTML object>"
            ],
            "text/html": [
              "Syncing run <strong><a href='https://wandb.ai/kimyoungjin-nus/PushWorld/runs/c9ypiwtu' target=\"_blank\">ppo-10-puzzles-pushworld</a></strong> to <a href='https://wandb.ai/kimyoungjin-nus/PushWorld' target=\"_blank\">Weights & Biases</a> (<a href='https://wandb.me/developer-guide' target=\"_blank\">docs</a>)<br>"
            ]
          },
          "metadata": {}
        },
        {
          "output_type": "display_data",
          "data": {
            "text/plain": [
              "<IPython.core.display.HTML object>"
            ],
            "text/html": [
              " View project at <a href='https://wandb.ai/kimyoungjin-nus/PushWorld' target=\"_blank\">https://wandb.ai/kimyoungjin-nus/PushWorld</a>"
            ]
          },
          "metadata": {}
        },
        {
          "output_type": "display_data",
          "data": {
            "text/plain": [
              "<IPython.core.display.HTML object>"
            ],
            "text/html": [
              " View run at <a href='https://wandb.ai/kimyoungjin-nus/PushWorld/runs/c9ypiwtu' target=\"_blank\">https://wandb.ai/kimyoungjin-nus/PushWorld/runs/c9ypiwtu</a>"
            ]
          },
          "metadata": {}
        },
        {
          "output_type": "stream",
          "name": "stderr",
          "text": [
            "\u001b[34m\u001b[1mwandb\u001b[0m: Adding directory to artifact (/checkpoint)... Done. 0.0s\n"
          ]
        },
        {
          "output_type": "display_data",
          "data": {
            "text/plain": [
              "<IPython.core.display.HTML object>"
            ],
            "text/html": []
          },
          "metadata": {}
        },
        {
          "output_type": "display_data",
          "data": {
            "text/plain": [
              "<IPython.core.display.HTML object>"
            ],
            "text/html": [
              "<br>    <style><br>        .wandb-row {<br>            display: flex;<br>            flex-direction: row;<br>            flex-wrap: wrap;<br>            justify-content: flex-start;<br>            width: 100%;<br>        }<br>        .wandb-col {<br>            display: flex;<br>            flex-direction: column;<br>            flex-basis: 100%;<br>            flex: 1;<br>            padding: 10px;<br>        }<br>    </style><br><div class=\"wandb-row\"><div class=\"wandb-col\"><h3>Run history:</h3><br/><table class=\"wandb\"><tr><td>actor_loss</td><td>▃▄▄▂▁▁▁▂▅▁▂▁▃▆▅█▅▆▆▆▆▇▆▆█▇█▆▅▅▅▅▅▅▅▅▄▄▄▅</td></tr><tr><td>entropy</td><td>█████▇▇▇▆▆▆▅▅▄▄▄▄▄▄▄▃▃▃▃▃▃▃▃▃▃▃▃▂▃▃▂▂▂▂▁</td></tr><tr><td>eval/lengths</td><td>█▆█▆▇▆▄▃▃▃▂▁▂▁▁▁▁▁▁▁▁▁▁▁▁▁▁▁▁▁▁▁▁▁▁▁▁▁▁▁</td></tr><tr><td>eval/returns</td><td>▁▄▂▃▂▃▅▆▇▇██▇███████████████████████████</td></tr><tr><td>eval/solved_percentage</td><td>▁▄▂▃▂▃▅▆▇▇██▇███████████████████████████</td></tr><tr><td>lr</td><td>████▇▇▇▇▇▇▆▆▆▆▆▅▅▅▅▅▄▄▄▄▄▄▃▃▃▃▃▂▂▂▂▂▂▁▁▁</td></tr><tr><td>total_loss</td><td>▄▃▃▃▄▅▅▆▇▇███▇▇▄▄▃▂▂▁▁▁▁▁▁▁▁▁▁▁▁▁▁▁▁▁▁▁▁</td></tr><tr><td>transitions</td><td>▁▁▁▁▂▂▂▂▂▂▃▃▃▃▃▄▄▄▄▄▅▅▅▅▅▅▆▆▆▆▆▇▇▇▇▇▇███</td></tr><tr><td>value_loss</td><td>▄▃▃▃▄▅▅▆▇▇███▇▇▄▄▃▂▂▁▁▁▁▁▁▁▁▁▁▁▁▁▁▁▁▁▁▁▁</td></tr></table><br/></div><div class=\"wandb-col\"><h3>Run summary:</h3><br/><table class=\"wandb\"><tr><td>actor_loss</td><td>-0.00023</td></tr><tr><td>entropy</td><td>0.54927</td></tr><tr><td>eval/lengths</td><td>14.8</td></tr><tr><td>eval/returns</td><td>8.861</td></tr><tr><td>eval/solved_percentage</td><td>0.9</td></tr><tr><td>lr</td><td>2e-05</td></tr><tr><td>steps_per_second</td><td>431023.96627</td></tr><tr><td>total_loss</td><td>-0.00465</td></tr><tr><td>training_time</td><td>23.20057</td></tr><tr><td>transitions</td><td>9830400</td></tr><tr><td>value_loss</td><td>0.00214</td></tr></table><br/></div></div>"
            ]
          },
          "metadata": {}
        },
        {
          "output_type": "display_data",
          "data": {
            "text/plain": [
              "<IPython.core.display.HTML object>"
            ],
            "text/html": [
              " View run <strong style=\"color:#cdcd00\">ppo-10-puzzles-pushworld</strong> at: <a href='https://wandb.ai/kimyoungjin-nus/PushWorld/runs/c9ypiwtu' target=\"_blank\">https://wandb.ai/kimyoungjin-nus/PushWorld/runs/c9ypiwtu</a><br> View project at: <a href='https://wandb.ai/kimyoungjin-nus/PushWorld' target=\"_blank\">https://wandb.ai/kimyoungjin-nus/PushWorld</a><br>Synced 5 W&B file(s), 0 media file(s), 18 artifact file(s) and 0 other file(s)"
            ]
          },
          "metadata": {}
        },
        {
          "output_type": "display_data",
          "data": {
            "text/plain": [
              "<IPython.core.display.HTML object>"
            ],
            "text/html": [
              "Find logs at: <code>./wandb/run-20250617_031049-c9ypiwtu/logs</code>"
            ]
          },
          "metadata": {}
        },
        {
          "output_type": "stream",
          "name": "stdout",
          "text": [
            "Final return:  8.861000061035156\n",
            "Final solved percentage:  0.9000000357627869\n"
          ]
        }
      ]
    },
    {
      "cell_type": "code",
      "source": [
        "plt.figure()\n",
        "plt.plot(jnp.arange(config.num_updates), train_info[\"loss_info\"][\"eval/returns\"]);\n",
        "plt.xlabel(\"Meta-update step\")\n",
        "plt.ylabel(\"Returns on test set\")\n",
        "\n",
        "plt.figure()\n",
        "plt.plot(jnp.arange(config.num_updates), train_info[\"loss_info\"][\"eval/solved_percentage\"]);\n",
        "plt.xlabel(\"Meta-update step\")\n",
        "plt.ylabel(\"Percentage of solved test puzzles\")"
      ],
      "metadata": {
        "colab": {
          "base_uri": "https://localhost:8080/",
          "height": 933
        },
        "id": "fzJFE_vc081Z",
        "outputId": "8b731617-e486-45a1-c965-0d5eb259a58e"
      },
      "id": "fzJFE_vc081Z",
      "execution_count": null,
      "outputs": [
        {
          "output_type": "stream",
          "name": "stderr",
          "text": [
            "ERROR:asyncio:Task was destroyed but it is pending!\n",
            "task: <Task cancelling name='Task-887' coro=<Event.wait() running at /usr/lib/python3.11/asyncio/locks.py:213> wait_for=<Future cancelled>>\n"
          ]
        },
        {
          "output_type": "execute_result",
          "data": {
            "text/plain": [
              "Text(0, 0.5, 'Percentage of solved test puzzles')"
            ]
          },
          "metadata": {},
          "execution_count": 44
        },
        {
          "output_type": "display_data",
          "data": {
            "text/plain": [
              "<Figure size 640x480 with 1 Axes>"
            ],
            "image/png": "[encoded data removed]"
          },
          "metadata": {}
        },
        {
          "output_type": "display_data",
          "data": {
            "text/plain": [
              "<Figure size 640x480 with 1 Axes>"
            ],
            "image/png": "[encoded data removed]"
          },
          "metadata": {}
        }
      ]
    },
    {
      "cell_type": "code",
      "source": [
        "benchmark = pushworld.load_benchmark(config.benchmark_id)\n",
        "\n",
        "puzzle_rng = jax.random.key(config.puzzle_seed)\n",
        "train_rng, test_rng = jax.random.split(puzzle_rng)\n",
        "\n",
        "perm = jax.random.permutation(train_rng, benchmark.num_train_puzzles())\n",
        "idxs = perm[: config.num_train]\n",
        "idxs = idxs.tolist()"
      ],
      "metadata": {
        "id": "3KL7u_OA3p7D"
      },
      "id": "3KL7u_OA3p7D",
      "execution_count": null,
      "outputs": []
    },
    {
      "cell_type": "code",
      "source": [
        "total_rewards = {}\n",
        "for idx in idxs:\n",
        "  puzzles = benchmark.train_puzzles[idx:idx+1]\n",
        "  total_reward = evaluate_single(train_info, config, puzzles, f\"multi_task_ppo_puzzle_{idx}\", 42)\n",
        "  print(f\"Puzzle: {idx}\")\n",
        "  print(f\"Total reward: {total_reward}\")\n",
        "  total_rewards[idx] = round(total_reward, 2)"
      ],
      "metadata": {
        "colab": {
          "base_uri": "https://localhost:8080/"
        },
        "id": "PaGC8UFw3ry2",
        "outputId": "efff4ffc-0f73-4526-ee48-d324b7431bf7"
      },
      "id": "PaGC8UFw3ry2",
      "execution_count": null,
      "outputs": [
        {
          "output_type": "stream",
          "name": "stderr",
          "text": [
            "/usr/lib/python3.11/subprocess.py:1885: RuntimeWarning: os.fork() was called. os.fork() is incompatible with multithreaded code, and JAX is multithreaded, so this will likely lead to a deadlock.\n",
            "  self.pid = _fork_exec(\n"
          ]
        },
        {
          "output_type": "stream",
          "name": "stdout",
          "text": [
            "Puzzle: 1\n",
            "Total reward: 9.980000000447035\n",
            "Puzzle: 3\n",
            "Total reward: -0.9999999776482582\n",
            "Puzzle: 9\n",
            "Total reward: 9.950000001117587\n",
            "Puzzle: 5\n",
            "Total reward: 9.990000000223517\n",
            "Puzzle: 0\n",
            "Total reward: 9.900000002235174\n",
            "Puzzle: 2\n",
            "Total reward: 9.990000000223517\n",
            "Puzzle: 6\n",
            "Total reward: 9.940000001341105\n",
            "Puzzle: 7\n",
            "Total reward: 9.950000001117587\n",
            "Puzzle: 4\n",
            "Total reward: 9.940000001341105\n",
            "Puzzle: 8\n",
            "Total reward: 9.970000000670552\n"
          ]
        }
      ]
    },
    {
      "cell_type": "code",
      "source": [
        "blocks = []\n",
        "for idx in total_rewards.keys():\n",
        "    # 1) get the reward\n",
        "    rew = total_rewards[idx]\n",
        "    # 2) grab the embedded HTML for the video\n",
        "    vid_html = Video(f\"multi_task_ppo_puzzle_{idx}.mp4\", embed=True)._repr_html_()\n",
        "    # 3) build a little column: video on top, caption below\n",
        "    block = f\"\"\"\n",
        "    <div style=\"display:flex; flex-direction:column; align-items:center; margin:5px;\">\n",
        "      {vid_html}\n",
        "      <div style=\"margin-top:4px; font-size:0.9em; color:red;\">\n",
        "        Puzzle id ({idx}) - Reward: {rew}\n",
        "      </div>\n",
        "    </div>\n",
        "    \"\"\"\n",
        "    blocks.append(block)\n",
        "\n",
        "# 4) stitch them into one flex row\n",
        "html = f\"\"\"\n",
        "<div style=\"display:flex; gap:10px; flex-wrap:wrap;\">\n",
        "  {''.join(blocks)}\n",
        "</div>\n",
        "\"\"\"\n",
        "html_output = HTML(html)\n",
        "display(html_output)"
      ],
      "metadata": {
        "colab": {
          "base_uri": "https://localhost:8080/",
          "height": 1000
        },
        "id": "gzaHec_13u4v",
        "outputId": "d5561795-d1ca-498f-bf25-94111a9b68c0"
      },
      "id": "gzaHec_13u4v",
      "execution_count": null,
      "outputs": [
        {
          "output_type": "display_data",
          "data": {
            "text/plain": [
              "<IPython.core.display.HTML object>"
            ],
            "text/html": [
              "\n",
              "<div style=\"display:flex; gap:10px; flex-wrap:wrap;\">\n",
              "  \n",
              "    <div style=\"display:flex; flex-direction:column; align-items:center; margin:5px;\">\n",
              "      <video controls  >\n",
              " <source src=\"data:video/mp4;base64,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\" type=\"video/mp4\">\n",
              " Your browser does not support the video tag.\n",
              " </video>\n",
              "      <div style=\"margin-top:4px; font-size:0.9em; color:red;\">\n",
              "        Puzzle id (1) - Reward: 9.98\n",
              "      </div>\n",
              "    </div>\n",
              "    \n",
              "    <div style=\"display:flex; flex-direction:column; align-items:center; margin:5px;\">\n",
              "      <video controls  >\n",
              " <source src=\"data:video/mp4;base64,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\" type=\"video/mp4\">\n",
              " Your browser does not support the video tag.\n",
              " </video>\n",
              "      <div style=\"margin-top:4px; font-size:0.9em; color:red;\">\n",
              "        Puzzle id (3) - Reward: -1.0\n",
              "      </div>\n",
              "    </div>\n",
              "    \n",
              "    <div style=\"display:flex; flex-direction:column; align-items:center; margin:5px;\">\n",
              "      <video controls  >\n",
              " <source src=\"data:video/mp4;base64,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\" type=\"video/mp4\">\n",
              " Your browser does not support the video tag.\n",
              " </video>\n",
              "      <div style=\"margin-top:4px; font-size:0.9em; color:red;\">\n",
              "        Puzzle id (9) - Reward: 9.95\n",
              "      </div>\n",
              "    </div>\n",
              "    \n",
              "    <div style=\"display:flex; flex-direction:column; align-items:center; margin:5px;\">\n",
              "      <video controls  >\n",
              " <source src=\"data:video/mp4;base64,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\" type=\"video/mp4\">\n",
              " Your browser does not support the video tag.\n",
              " </video>\n",
              "      <div style=\"margin-top:4px; font-size:0.9em; color:red;\">\n",
              "        Puzzle id (5) - Reward: 9.99\n",
              "      </div>\n",
              "    </div>\n",
              "    \n",
              "    <div style=\"display:flex; flex-direction:column; align-items:center; margin:5px;\">\n",
              "      <video controls  >\n",
              " <source src=\"data:video/mp4;base64,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\" type=\"video/mp4\">\n",
              " Your browser does not support the video tag.\n",
              " </video>\n",
              "      <div style=\"margin-top:4px; font-size:0.9em; color:red;\">\n",
              "        Puzzle id (0) - Reward: 9.9\n",
              "      </div>\n",
              "    </div>\n",
              "    \n",
              "    <div style=\"display:flex; flex-direction:column; align-items:center; margin:5px;\">\n",
              "      <video controls  >\n",
              " <source src=\"data:video/mp4;base64,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\" type=\"video/mp4\">\n",
              " Your browser does not support the video tag.\n",
              " </video>\n",
              "      <div style=\"margin-top:4px; font-size:0.9em; color:red;\">\n",
              "        Puzzle id (2) - Reward: 9.99\n",
              "      </div>\n",
              "    </div>\n",
              "    \n",
              "    <div style=\"display:flex; flex-direction:column; align-items:center; margin:5px;\">\n",
              "      <video controls  >\n",
              " <source src=\"data:video/mp4;base64,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\" type=\"video/mp4\">\n",
              " Your browser does not support the video tag.\n",
              " </video>\n",
              "      <div style=\"margin-top:4px; font-size:0.9em; color:red;\">\n",
              "        Puzzle id (6) - Reward: 9.94\n",
              "      </div>\n",
              "    </div>\n",
              "    \n",
              "    <div style=\"display:flex; flex-direction:column; align-items:center; margin:5px;\">\n",
              "      <video controls  >\n",
              " <source src=\"data:video/mp4;base64,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\" type=\"video/mp4\">\n",
              " Your browser does not support the video tag.\n",
              " </video>\n",
              "      <div style=\"margin-top:4px; font-size:0.9em; color:red;\">\n",
              "        Puzzle id (7) - Reward: 9.95\n",
              "      </div>\n",
              "    </div>\n",
              "    \n",
              "    <div style=\"display:flex; flex-direction:column; align-items:center; margin:5px;\">\n",
              "      <video controls  >\n",
              " <source src=\"data:video/mp4;base64,AAAAIGZ0eXBpc29tAAACAGlzb21pc28yYXZjMW1wNDEAAAAIZnJlZQAAB5JtZGF0AAACrwYF//+r3EXpvebZSLeWLNgg2SPu73gyNjQgLSBjb3JlIDE2NCByMzE5MSA0NjEzYWMzIC0gSC4yNjQvTVBFRy00IEFWQyBjb2RlYyAtIENvcHlsZWZ0IDIwMDMtMjAyNCAtIGh0dHA6Ly93d3cudmlkZW9sYW4ub3JnL3gyNjQuaHRtbCAtIG9wdGlvbnM6IGNhYmFjPTEgcmVmPTMgZGVibG9jaz0xOjA6MCBhbmFseXNlPTB4MzoweDExMyBtZT1oZXggc3VibWU9NyBwc3k9MSBwc3lfcmQ9MS4wMDowLjAwIG1peGVkX3JlZj0xIG1lX3JhbmdlPTE2IGNocm9tYV9tZT0xIHRyZWxsaXM9MSA4eDhkY3Q9MSBjcW09MCBkZWFkem9uZT0yMSwxMSBmYXN0X3Bza2lwPTEgY2hyb21hX3FwX29mZnNldD0tMiB0aHJlYWRzPTEwIGxvb2thaGVhZF90aHJlYWRzPTEgc2xpY2VkX3RocmVhZHM9MCBucj0wIGRlY2ltYXRlPTEgaW50ZXJsYWNlZD0wIGJsdXJheV9jb21wYXQ9MCBjb25zdHJhaW5lZF9pbnRyYT0wIGJmcmFtZXM9MyBiX3B5cmFtaWQ9MiBiX2FkYXB0PTEgYl9iaWFzPTAgZGlyZWN0PTEgd2VpZ2h0Yj0xIG9wZW5fZ29wPTAgd2VpZ2h0cD0yIGtleWludD0yNTAga2V5aW50X21pbj0xNiBzY2VuZWN1dD00MCBpbnRyYV9yZWZyZXNoPTAgcmNfbG9va2FoZWFkPTQwIHJjPWNyZiBtYnRyZWU9MSBjcmY9MjMuMCBxY29tcD0wLjYwIHFwbWluPTAgcXBtYXg9NjkgcXBzdGVwPTQgaXBfcmF0aW89MS40MCBhcT0xOjEuMDAAgAAAASRliIQAN//+9vD+BTY7mNCXEc3oNo6SOjnKVNi/s4Nk7Lsvdj7JWo884tu0Sc3lPcsm3702EWsKLWeh11L5BuX2mL2Wv5f7SedJStf4JAXEl3uMhxOz17d9m4JPxiCVfDRfZeAX2E3y4tODs9iXc8tkcbn08cLSmzrcB3K9nl0NP+DYnIOLdKJXhAt0m0EQ5HJs2UMCQOf1KKQ/AFwJu5gNgFHVj+Qs2Mv0f7Dg99jGYc5JOsIyb735DAkVD9BxfEWAYDCoXOc7YKIglgyA0CqTivpZMvoH7zsOk4cCrD4tRCZbdVDiveCMd1xEdS2tnQBofcUzCgMLBJ/Qa4c8gMrk0rrAtRTJNWgwdyofuW+3RQuCgAfrpb1AC3om/kjsE2B7gCXhAAAAekGaIWxDf/5Fa4LDOkoD52yNirZfQelFsJjWJ/k1hzxxvQHAqzGWfcii0w9bJPpC86BAQd49ZoyKD4bO3qQY94/sxgVOlA5XXDQ+O95e93MAr5C+P5mVLHBo+hcV79lpqCvh2JesIAfuSWD6rhlQ9UqwdFbgkWLY8JwcAAAAg0GaQjwhkymEN//+p45Mq2CrPDq28Jrbzy8Jh9n/5hYKsW4iu5yjLhVZQpUHr0+BeCekFghiLUNg4eKFFIKiLfGNBD7blxS/IqWLV944kca5MaYG/vskPSFAVBlXAKZy7gWQiLB1D3DTdn+j/GkKyqAhO3QOoeFSqL07bb3p3Lq67t0hAAAAW0GaY0nhDyZTAhv//qeOTKtgxAQ6TY+ovYiZn6lzafYd2/sygx0zdgeboB2FUvfbPQ8GT0AkXx4Xv1ANjriuajpXDpsQVxdt64NZAMQPKgyYkAMqWIXDTmewR8AAAABWQZqESeEPJlMCHf/+qZxWVtcWFAT83Ncr0FTJQAqYbLyUrpeMLPTifA99I338bCxocPaOS+a1A/pS2o/3I53ypFRXJApnKjGRMS6hOgBemWAK1/DcxpcAAACtQZqmSeEPJlMFETwz//6eKlyb6YQBRZn7MsSCFqO4dkIOGRJtYgybFFHVw7Uip/UDHvWXMsea4PgaOQl44ZLAhHkzYKWAvFgl76rCIU6eZr8Z6ghDQQkZzbFQdGc8A2LzIOkZEOGzlMElwM4QNgcesiZH8H20wix0nlWxtyMWClGl1RGaX6zZRizt4yM7v56GF/pY4zhc7uXk9C4muMVOiSH/U3tcBhGOdoSn/4EAAACbAZ7FakL/ANz1OGiLkKgHcVvAOEAgFL0hdutwY6tjDwDodOwNPetXAN5+V3P8tuc0OGZapCQw8YeXqpL3ckKV7lJohacZGiU0dtF9gcDQG5fOm6Ru1c/f67QAvHEWZXUVDeBCTzUVPlnSW6TONX8TDO1E415VK6uA8wTTgpmotjVGejd/SoRHxs/O2LYtoTeCVG6qNYRQOhnA4MEAAACdQZrHSeEPJlMCF//+jLAF4LQIHc2ZXPzPZidW0yTsblF5QjAdaqtYsxuh8m7JBK7f//x+T2qmC01pIL7xsYJ8DR+0CUT4Mc/pgm87pcyu4VAKs09eCG6VXa2NcvaZY4NEutO6DWg8/miKIKEDPoNOBL9prA1rbhz20NQUP12lJD8pzCrqo7ePM6Y8dJ2aHSlGYuNPzI5uifb4LKEd0QAAA2ltb292AAAAbG12aGQAAAAAAAAAAAAAAAAAAAPoAAAB9AABAAABAAAAAAAAAAAAAAAAAQAAAAAAAAAAAAAAAAAAAAEAAAAAAAAAAAAAAAAAAEAAAAAAAAAAAAAAAAAAAAAAAAAAAAAAAAAAAAAAAAACAAAClHRyYWsAAABcdGtoZAAAAAMAAAAAAAAAAAAAAAEAAAAAAAAB9AAAAAAAAAAAAAAAAAAAAAAAAQAAAAAAAAAAAAAAAAAAAAEAAAAAAAAAAAAAAAAAAEAAAAABQAAAAUAAAAAAACRlZHRzAAAAHGVsc3QAAAAAAAAAAQAAAfQAAAgAAAEAAAAAAgxtZGlhAAAAIG1kaGQAAAAAAAAAAAAAAAAAAEAAAAAgAFXEAAAAAAAtaGRscgAAAAAAAAAAdmlkZQAAAAAAAAAAAAAAAFZpZGVvSGFuZGxlcgAAAAG3bWluZgAAABR2bWhkAAAAAQAAAAAAAAAAAAAAJGRpbmYAAAAcZHJlZgAAAAAAAAABAAAADHVybCAAAAABAAABd3N0YmwAAACvc3RzZAAAAAAAAAABAAAAn2F2YzEAAAAAAAAAAQAAAAAAAAAAAAAAAAAAAAABQAFAAEgAAABIAAAAAAAAAAEUTGF2YzYxLjMuMTAwIGxpYngyNjQAAAAAAAAAAAAAAAAY//8AAAA1YXZjQwFkABX/4QAYZ2QAFazZQUCmhAAAAwAEAAADAIA8WLZYAQAGaOvjyyLA/fj4AAAAABRidHJ0AAAAAAAAeKAAAHigAAAAGHN0dHMAAAAAAAAAAQAAAAgAAAQAAAAAFHN0c3MAAAAAAAAAAQAAAAEAAAAwY3R0cwAAAAAAAAAEAAAABQAACAAAAAABAAAMAAAAAAEAAAQAAAAAAQAACAAAAAAcc3RzYwAAAAAAAAABAAAAAQAAAAgAAAABAAAANHN0c3oAAAAAAAAAAAAAAAgAAAPbAAAAfgAAAIcAAABfAAAAWgAAALEAAACfAAAAoQAAABRzdGNvAAAAAAAAAAEAAAAwAAAAYXVkdGEAAABZbWV0YQAAAAAAAAAhaGRscgAAAAAAAAAAbWRpcmFwcGwAAAAAAAAAAAAAAAAsaWxzdAAAACSpdG9vAAAAHGRhdGEAAAABAAAAAExhdmY2MS4xLjEwMA==\" type=\"video/mp4\">\n",
              " Your browser does not support the video tag.\n",
              " </video>\n",
              "      <div style=\"margin-top:4px; font-size:0.9em; color:red;\">\n",
              "        Puzzle id (4) - Reward: 9.94\n",
              "      </div>\n",
              "    </div>\n",
              "    \n",
              "    <div style=\"display:flex; flex-direction:column; align-items:center; margin:5px;\">\n",
              "      <video controls  >\n",
              " <source src=\"data:video/mp4;base64,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\" type=\"video/mp4\">\n",
              " Your browser does not support the video tag.\n",
              " </video>\n",
              "      <div style=\"margin-top:4px; font-size:0.9em; color:red;\">\n",
              "        Puzzle id (8) - Reward: 9.97\n",
              "      </div>\n",
              "    </div>\n",
              "    \n",
              "</div>\n"
            ]
          },
          "metadata": {}
        }
      ]
    },
    {
      "cell_type": "markdown",
      "source": [
        "### PPO on all of PushWorld Base Level 0"
      ],
      "metadata": {
        "id": "E084PNQynGPY"
      },
      "id": "E084PNQynGPY"
    },
    {
      "cell_type": "code",
      "source": [
        "# should take ~9min on one T4, ~5min on two T4 gpus\n",
        "config = TrainConfig(\n",
        "    benchmark_id=\"level0_transformed_base\",\n",
        "    total_timesteps=200_000_000,\n",
        "    num_envs=8192,\n",
        "    num_steps=100,\n",
        "    # W&B\n",
        "    name=\"ppo-level0-base-puzzles-pushworld\",\n",
        "    track=True,\n",
        "    checkpoint_path=\"/checkpoint\",\n",
        "    upload_model=True\n",
        "\n",
        ")\n",
        "train_info, elapsed_time = train(config)\n",
        "processing(config, train_info, elapsed_time)"
      ],
      "metadata": {
        "id": "yp3qlXUp4NzJ",
        "outputId": "aad726b6-5a7d-4c8b-a135-2e0e0a6b8568",
        "colab": {
          "base_uri": "https://localhost:8080/",
          "height": 1000
        }
      },
      "id": "yp3qlXUp4NzJ",
      "execution_count": 10,
      "outputs": [
        {
          "output_type": "stream",
          "name": "stdout",
          "text": [
            "Num devices: 1, Num updates: 244\n",
            "Compiling...\n",
            "Done in 28.87s.\n",
            "Training...\n",
            "Done in 271.00s\n",
            "Logging...\n"
          ]
        },
        {
          "output_type": "display_data",
          "data": {
            "text/plain": [
              "<IPython.core.display.Javascript object>"
            ],
            "application/javascript": [
              "\n",
              "        window._wandbApiKey = new Promise((resolve, reject) => {\n",
              "            function loadScript(url) {\n",
              "            return new Promise(function(resolve, reject) {\n",
              "                let newScript = document.createElement(\"script\");\n",
              "                newScript.onerror = reject;\n",
              "                newScript.onload = resolve;\n",
              "                document.body.appendChild(newScript);\n",
              "                newScript.src = url;\n",
              "            });\n",
              "            }\n",
              "            loadScript(\"https://cdn.jsdelivr.net/npm/postmate/build/postmate.min.js\").then(() => {\n",
              "            const iframe = document.createElement('iframe')\n",
              "            iframe.style.cssText = \"width:0;height:0;border:none\"\n",
              "            document.body.appendChild(iframe)\n",
              "            const handshake = new Postmate({\n",
              "                container: iframe,\n",
              "                url: 'https://wandb.ai/authorize'\n",
              "            });\n",
              "            const timeout = setTimeout(() => reject(\"Couldn't auto authenticate\"), 5000)\n",
              "            handshake.then(function(child) {\n",
              "                child.on('authorize', data => {\n",
              "                    clearTimeout(timeout)\n",
              "                    resolve(data)\n",
              "                });\n",
              "            });\n",
              "            })\n",
              "        });\n",
              "    "
            ]
          },
          "metadata": {}
        },
        {
          "output_type": "stream",
          "name": "stderr",
          "text": [
            "\u001b[34m\u001b[1mwandb\u001b[0m: Logging into wandb.ai. (Learn how to deploy a W&B server locally: https://wandb.me/wandb-server)\n",
            "\u001b[34m\u001b[1mwandb\u001b[0m: You can find your API key in your browser here: https://wandb.ai/authorize?ref=models\n",
            "wandb: Paste an API key from your profile and hit enter:"
          ]
        },
        {
          "name": "stdout",
          "output_type": "stream",
          "text": [
            " ··········\n"
          ]
        },
        {
          "output_type": "stream",
          "name": "stderr",
          "text": [
            "\u001b[34m\u001b[1mwandb\u001b[0m: \u001b[33mWARNING\u001b[0m If you're specifying your api key in code, ensure this code is not shared publicly.\n",
            "\u001b[34m\u001b[1mwandb\u001b[0m: \u001b[33mWARNING\u001b[0m Consider setting the WANDB_API_KEY environment variable, or running `wandb login` from the command line.\n",
            "\u001b[34m\u001b[1mwandb\u001b[0m: No netrc file found, creating one.\n",
            "\u001b[34m\u001b[1mwandb\u001b[0m: Appending key for api.wandb.ai to your netrc file: /root/.netrc\n",
            "\u001b[34m\u001b[1mwandb\u001b[0m: Currently logged in as: \u001b[33mkimyoungjin1001\u001b[0m (\u001b[33mkimyoungjin-nus\u001b[0m) to \u001b[32mhttps://api.wandb.ai\u001b[0m. Use \u001b[1m`wandb login --relogin`\u001b[0m to force relogin\n"
          ]
        },
        {
          "output_type": "display_data",
          "data": {
            "text/plain": [
              "<IPython.core.display.HTML object>"
            ],
            "text/html": [
              "Tracking run with wandb version 0.20.1"
            ]
          },
          "metadata": {}
        },
        {
          "output_type": "display_data",
          "data": {
            "text/plain": [
              "<IPython.core.display.HTML object>"
            ],
            "text/html": [
              "Run data is saved locally in <code>/content/wandb/run-20250617_033515-uvulneg4</code>"
            ]
          },
          "metadata": {}
        },
        {
          "output_type": "display_data",
          "data": {
            "text/plain": [
              "<IPython.core.display.HTML object>"
            ],
            "text/html": [
              "Syncing run <strong><a href='https://wandb.ai/kimyoungjin-nus/PushWorld/runs/uvulneg4' target=\"_blank\">ppo-level0-base-puzzles-pushworld</a></strong> to <a href='https://wandb.ai/kimyoungjin-nus/PushWorld' target=\"_blank\">Weights & Biases</a> (<a href='https://wandb.me/developer-guide' target=\"_blank\">docs</a>)<br>"
            ]
          },
          "metadata": {}
        },
        {
          "output_type": "display_data",
          "data": {
            "text/plain": [
              "<IPython.core.display.HTML object>"
            ],
            "text/html": [
              " View project at <a href='https://wandb.ai/kimyoungjin-nus/PushWorld' target=\"_blank\">https://wandb.ai/kimyoungjin-nus/PushWorld</a>"
            ]
          },
          "metadata": {}
        },
        {
          "output_type": "display_data",
          "data": {
            "text/plain": [
              "<IPython.core.display.HTML object>"
            ],
            "text/html": [
              " View run at <a href='https://wandb.ai/kimyoungjin-nus/PushWorld/runs/uvulneg4' target=\"_blank\">https://wandb.ai/kimyoungjin-nus/PushWorld/runs/uvulneg4</a>"
            ]
          },
          "metadata": {}
        },
        {
          "output_type": "stream",
          "name": "stderr",
          "text": [
            "\u001b[34m\u001b[1mwandb\u001b[0m: Adding directory to artifact (/checkpoint)... Done. 0.0s\n"
          ]
        },
        {
          "output_type": "display_data",
          "data": {
            "text/plain": [
              "<IPython.core.display.HTML object>"
            ],
            "text/html": []
          },
          "metadata": {}
        },
        {
          "output_type": "display_data",
          "data": {
            "text/plain": [
              "<IPython.core.display.HTML object>"
            ],
            "text/html": [
              "<br>    <style><br>        .wandb-row {<br>            display: flex;<br>            flex-direction: row;<br>            flex-wrap: wrap;<br>            justify-content: flex-start;<br>            width: 100%;<br>        }<br>        .wandb-col {<br>            display: flex;<br>            flex-direction: column;<br>            flex-basis: 100%;<br>            flex: 1;<br>            padding: 10px;<br>        }<br>    </style><br><div class=\"wandb-row\"><div class=\"wandb-col\"><h3>Run history:</h3><br/><table class=\"wandb\"><tr><td>actor_loss</td><td>▁▁▁▁▁▂▃▂▃▅▃▄▇▆█▆▆▆▆▅▆▅▅▆▅▅▄▅▅▅▄▄▄▄▄▃▃▃▂▁</td></tr><tr><td>entropy</td><td>████▇▆▆▅▅▅▅▄▄▄▃▃▃▃▃▃▂▂▂▂▂▂▂▂▂▂▁▁▁▁▁▁▁▁▁▁</td></tr><tr><td>eval/lengths</td><td>██▇▆▅▄▃▃▃▃▂▂▂▂▂▂▂▁▁▁▁▁▁▁▁▁▁▁▁▁▁▁▁▁▁▁▁▁▁▁</td></tr><tr><td>eval/returns</td><td>▁▁▁▂▃▅▅▆▆▆▇▇▇▇▇█████████████████████████</td></tr><tr><td>eval/solved_percentage</td><td>▁▁▂▂▂▄▅▅▆▆▇▇▇▇▇▇████████████████████████</td></tr><tr><td>lr</td><td>████▇▇▇▇▇▆▆▆▆▆▅▅▅▅▅▅▄▄▃▃▃▃▃▃▃▂▂▂▂▂▂▂▂▁▁▁</td></tr><tr><td>total_loss</td><td>▂▃▃▄▆▇▇███▇▇▇▇▆▄▄▄▃▂▂▂▂▂▂▂▂▂▁▁▁▁▁▁▁▁▁▁▁▁</td></tr><tr><td>transitions</td><td>▁▁▂▂▂▂▂▂▃▃▃▃▄▄▄▄▄▄▅▅▅▅▅▅▆▆▆▆▆▆▆▇▇▇▇▇▇███</td></tr><tr><td>value_loss</td><td>▂▂▃▃▄▇▇▇▇███▇▇▆▅▅▅▄▄▄▄▄▃▂▂▂▂▂▂▁▁▁▁▁▁▁▁▁▁</td></tr></table><br/></div><div class=\"wandb-col\"><h3>Run summary:</h3><br/><table class=\"wandb\"><tr><td>actor_loss</td><td>1e-05</td></tr><tr><td>entropy</td><td>0.15928</td></tr><tr><td>eval/lengths</td><td>20.35563</td></tr><tr><td>eval/returns</td><td>9.04318</td></tr><tr><td>eval/solved_percentage</td><td>0.92375</td></tr><tr><td>lr</td><td>0.0</td></tr><tr><td>steps_per_second</td><td>737997.7449</td></tr><tr><td>total_loss</td><td>0.05683</td></tr><tr><td>training_time</td><td>271.00354</td></tr><tr><td>transitions</td><td>199884800</td></tr><tr><td>value_loss</td><td>0.11683</td></tr></table><br/></div></div>"
            ]
          },
          "metadata": {}
        },
        {
          "output_type": "display_data",
          "data": {
            "text/plain": [
              "<IPython.core.display.HTML object>"
            ],
            "text/html": [
              " View run <strong style=\"color:#cdcd00\">ppo-level0-base-puzzles-pushworld</strong> at: <a href='https://wandb.ai/kimyoungjin-nus/PushWorld/runs/uvulneg4' target=\"_blank\">https://wandb.ai/kimyoungjin-nus/PushWorld/runs/uvulneg4</a><br> View project at: <a href='https://wandb.ai/kimyoungjin-nus/PushWorld' target=\"_blank\">https://wandb.ai/kimyoungjin-nus/PushWorld</a><br>Synced 5 W&B file(s), 0 media file(s), 18 artifact file(s) and 0 other file(s)"
            ]
          },
          "metadata": {}
        },
        {
          "output_type": "display_data",
          "data": {
            "text/plain": [
              "<IPython.core.display.HTML object>"
            ],
            "text/html": [
              "Find logs at: <code>./wandb/run-20250617_033515-uvulneg4/logs</code>"
            ]
          },
          "metadata": {}
        },
        {
          "output_type": "stream",
          "name": "stdout",
          "text": [
            "Final return:  9.043181419372559\n",
            "Final solved percentage:  0.9237499833106995\n"
          ]
        }
      ]
    },
    {
      "cell_type": "code",
      "source": [
        "plt.figure()\n",
        "plt.plot(jnp.arange(config.num_updates), train_info[\"loss_info\"][\"eval/returns\"]);\n",
        "plt.xlabel(\"Meta-update step\")\n",
        "plt.ylabel(\"Returns on test set\")\n",
        "\n",
        "plt.figure()\n",
        "plt.plot(jnp.arange(config.num_updates), train_info[\"loss_info\"][\"eval/solved_percentage\"]);\n",
        "plt.xlabel(\"Meta-update step\")\n",
        "plt.ylabel(\"Percentage of solved test puzzles\")"
      ],
      "metadata": {
        "colab": {
          "base_uri": "https://localhost:8080/",
          "height": 933
        },
        "id": "vpR2dbvx9M62",
        "outputId": "8d4a3fd6-70f6-40fe-cbc7-9c42bddd9bfd"
      },
      "id": "vpR2dbvx9M62",
      "execution_count": 11,
      "outputs": [
        {
          "output_type": "stream",
          "name": "stderr",
          "text": [
            "ERROR:asyncio:Task was destroyed but it is pending!\n",
            "task: <Task cancelling name='Task-122' coro=<Event.wait() running at /usr/lib/python3.11/asyncio/locks.py:213> wait_for=<Future cancelled>>\n"
          ]
        },
        {
          "output_type": "execute_result",
          "data": {
            "text/plain": [
              "Text(0, 0.5, 'Percentage of solved test puzzles')"
            ]
          },
          "metadata": {},
          "execution_count": 11
        },
        {
          "output_type": "display_data",
          "data": {
            "text/plain": [
              "<Figure size 640x480 with 1 Axes>"
            ],
            "image/png": "[encoded data removed]"
          },
          "metadata": {}
        },
        {
          "output_type": "display_data",
          "data": {
            "text/plain": [
              "<Figure size 640x480 with 1 Axes>"
            ],
            "image/png": "[encoded data removed]"
          },
          "metadata": {}
        }
      ]
    }
  ],
  "metadata": {
    "colab": {
      "provenance": [],
      "toc_visible": true,
      "machine_shape": "hm",
      "gpuType": "A100"
    },
    "language_info": {
      "name": "python"
    },
    "accelerator": "GPU",
    "kernelspec": {
      "name": "python3",
      "display_name": "Python 3"
    }
  },
  "nbformat": 4,
  "nbformat_minor": 5
}