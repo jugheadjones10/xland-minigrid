{
 "cells": [
  {
   "cell_type": "code",
   "execution_count": 3,
   "metadata": {},
   "outputs": [],
   "source": [
    "import jax\n",
    "import jax.numpy as jnp"
   ]
  },
  {
   "cell_type": "markdown",
   "metadata": {},
   "source": [
    "In Jax, we know that something like this code works perfectly fine:\n"
   ]
  },
  {
   "cell_type": "code",
   "execution_count": 1,
   "metadata": {},
   "outputs": [
    {
     "data": {
      "text/plain": [
       "Array(10, dtype=int32, weak_type=True)"
      ]
     },
     "execution_count": 1,
     "metadata": {},
     "output_type": "execute_result"
    }
   ],
   "source": [
    "def fn():\n",
    "    count = 0\n",
    "    for i in [0, 1, 2, 3, 4]:\n",
    "        count += int(i)\n",
    "    return count\n",
    "\n",
    "\n",
    "jax.jit(fn)()"
   ]
  },
  {
   "cell_type": "markdown",
   "metadata": {},
   "source": [
    "When Jax is tracing `fn` and sees the list `[0, 1, 2, 3, 4]`, it will \"unroll\" the loop, resulting in something like this:\n"
   ]
  },
  {
   "cell_type": "code",
   "execution_count": 2,
   "metadata": {},
   "outputs": [
    {
     "data": {
      "text/plain": [
       "Array(10, dtype=int32, weak_type=True)"
      ]
     },
     "execution_count": 2,
     "metadata": {},
     "output_type": "execute_result"
    }
   ],
   "source": [
    "def fn():\n",
    "    count = 0\n",
    "    count += int(0)\n",
    "    count += int(1)\n",
    "    count += int(2)\n",
    "    count += int(3)\n",
    "    count += int(4)\n",
    "    return count\n",
    "\n",
    "\n",
    "jax.jit(fn)()"
   ]
  },
  {
   "cell_type": "markdown",
   "metadata": {},
   "source": [
    "What if instead of using a normal Python list, we use a Jax array?\n"
   ]
  },
  {
   "cell_type": "code",
   "execution_count": 4,
   "metadata": {},
   "outputs": [
    {
     "ename": "ConcretizationTypeError",
     "evalue": "Abstract tracer value encountered where concrete value is expected: traced array with shape int32[]\nThe problem arose with the `int` function. If trying to convert the data type of a value, try using `x.astype(int)` or `jnp.array(x, int)` instead.\nThe error occurred while tracing the function fn at /var/folders/q4/2lsmb6qd1ks8137720rg8fz80000gn/T/ipykernel_33732/1016498956.py:1 for jit. This value became a tracer due to JAX operations on these lines:\n\n  operation a\u001b[35m:i32[5]\u001b[39m = convert_element_type[new_dtype=int32 weak_type=False] b\n    from line /var/folders/q4/2lsmb6qd1ks8137720rg8fz80000gn/T/ipykernel_33732/1016498956.py:3:13 (fn)\n\nSee https://jax.readthedocs.io/en/latest/errors.html#jax.errors.ConcretizationTypeError",
     "output_type": "error",
     "traceback": [
      "\u001b[31m---------------------------------------------------------------------------\u001b[39m",
      "\u001b[31mConcretizationTypeError\u001b[39m                   Traceback (most recent call last)",
      "\u001b[36mCell\u001b[39m\u001b[36m \u001b[39m\u001b[32mIn[4]\u001b[39m\u001b[32m, line 7\u001b[39m\n\u001b[32m      4\u001b[39m         count += \u001b[38;5;28mint\u001b[39m(i)\n\u001b[32m      5\u001b[39m     \u001b[38;5;28;01mreturn\u001b[39;00m count\n\u001b[32m----> \u001b[39m\u001b[32m7\u001b[39m \u001b[43mjax\u001b[49m\u001b[43m.\u001b[49m\u001b[43mjit\u001b[49m\u001b[43m(\u001b[49m\u001b[43mfn\u001b[49m\u001b[43m)\u001b[49m\u001b[43m(\u001b[49m\u001b[43m)\u001b[49m\n",
      "    \u001b[31m[... skipping hidden 13 frame]\u001b[39m\n",
      "\u001b[36mCell\u001b[39m\u001b[36m \u001b[39m\u001b[32mIn[4]\u001b[39m\u001b[32m, line 4\u001b[39m, in \u001b[36mfn\u001b[39m\u001b[34m()\u001b[39m\n\u001b[32m      2\u001b[39m count = \u001b[32m0\u001b[39m\n\u001b[32m      3\u001b[39m \u001b[38;5;28;01mfor\u001b[39;00m i \u001b[38;5;129;01min\u001b[39;00m jnp.array([\u001b[32m0\u001b[39m, \u001b[32m1\u001b[39m, \u001b[32m2\u001b[39m, \u001b[32m3\u001b[39m, \u001b[32m4\u001b[39m]):\n\u001b[32m----> \u001b[39m\u001b[32m4\u001b[39m     count += \u001b[38;5;28;43mint\u001b[39;49m\u001b[43m(\u001b[49m\u001b[43mi\u001b[49m\u001b[43m)\u001b[49m\n\u001b[32m      5\u001b[39m \u001b[38;5;28;01mreturn\u001b[39;00m count\n",
      "    \u001b[31m[... skipping hidden 1 frame]\u001b[39m\n",
      "\u001b[36mFile \u001b[39m\u001b[32m~/Projects/monkey/xland-minigrid/.venv/lib/python3.11/site-packages/jax/_src/core.py:1578\u001b[39m, in \u001b[36mconcretization_function_error.<locals>.error\u001b[39m\u001b[34m(self, arg)\u001b[39m\n\u001b[32m   1577\u001b[39m \u001b[38;5;28;01mdef\u001b[39;00m\u001b[38;5;250m \u001b[39m\u001b[34merror\u001b[39m(\u001b[38;5;28mself\u001b[39m, arg):\n\u001b[32m-> \u001b[39m\u001b[32m1578\u001b[39m   \u001b[38;5;28;01mraise\u001b[39;00m ConcretizationTypeError(arg, fname_context)\n",
      "\u001b[31mConcretizationTypeError\u001b[39m: Abstract tracer value encountered where concrete value is expected: traced array with shape int32[]\nThe problem arose with the `int` function. If trying to convert the data type of a value, try using `x.astype(int)` or `jnp.array(x, int)` instead.\nThe error occurred while tracing the function fn at /var/folders/q4/2lsmb6qd1ks8137720rg8fz80000gn/T/ipykernel_33732/1016498956.py:1 for jit. This value became a tracer due to JAX operations on these lines:\n\n  operation a\u001b[35m:i32[5]\u001b[39m = convert_element_type[new_dtype=int32 weak_type=False] b\n    from line /var/folders/q4/2lsmb6qd1ks8137720rg8fz80000gn/T/ipykernel_33732/1016498956.py:3:13 (fn)\n\nSee https://jax.readthedocs.io/en/latest/errors.html#jax.errors.ConcretizationTypeError"
     ]
    }
   ],
   "source": [
    "def fn():\n",
    "    count = 0\n",
    "    for i in jnp.array([0, 1, 2, 3, 4]):\n",
    "        count += int(i)\n",
    "    return count\n",
    "\n",
    "\n",
    "jax.jit(fn)()"
   ]
  },
  {
   "cell_type": "markdown",
   "metadata": {},
   "source": [
    "We now get a `ConcretizationTypeError`. For some reason, `i` is now a Tracer, meaning the Python operation `int(i)` is illegal.\n"
   ]
  },
  {
   "cell_type": "code",
   "execution_count": 6,
   "metadata": {},
   "outputs": [
    {
     "name": "stdout",
     "output_type": "stream",
     "text": [
      "Traced<ShapedArray(int32[5])>with<DynamicJaxprTrace>\n"
     ]
    },
    {
     "ename": "ConcretizationTypeError",
     "evalue": "Abstract tracer value encountered where concrete value is expected: traced array with shape int32[]\nThe problem arose with the `int` function. If trying to convert the data type of a value, try using `x.astype(int)` or `jnp.array(x, int)` instead.\nThe error occurred while tracing the function fn at /var/folders/q4/2lsmb6qd1ks8137720rg8fz80000gn/T/ipykernel_33732/3720083227.py:1 for jit. This value became a tracer due to JAX operations on these lines:\n\n  operation a\u001b[35m:i32[5]\u001b[39m = convert_element_type[new_dtype=int32 weak_type=False] b\n    from line /var/folders/q4/2lsmb6qd1ks8137720rg8fz80000gn/T/ipykernel_33732/3720083227.py:3:10 (fn)\n\nSee https://jax.readthedocs.io/en/latest/errors.html#jax.errors.ConcretizationTypeError",
     "output_type": "error",
     "traceback": [
      "\u001b[31m---------------------------------------------------------------------------\u001b[39m",
      "\u001b[31mConcretizationTypeError\u001b[39m                   Traceback (most recent call last)",
      "\u001b[36mCell\u001b[39m\u001b[36m \u001b[39m\u001b[32mIn[6]\u001b[39m\u001b[32m, line 10\u001b[39m\n\u001b[32m      6\u001b[39m         count += \u001b[38;5;28mint\u001b[39m(i)\n\u001b[32m      7\u001b[39m     \u001b[38;5;28;01mreturn\u001b[39;00m count\n\u001b[32m---> \u001b[39m\u001b[32m10\u001b[39m \u001b[43mjax\u001b[49m\u001b[43m.\u001b[49m\u001b[43mjit\u001b[49m\u001b[43m(\u001b[49m\u001b[43mfn\u001b[49m\u001b[43m)\u001b[49m\u001b[43m(\u001b[49m\u001b[43m)\u001b[49m\n",
      "    \u001b[31m[... skipping hidden 13 frame]\u001b[39m\n",
      "\u001b[36mCell\u001b[39m\u001b[36m \u001b[39m\u001b[32mIn[6]\u001b[39m\u001b[32m, line 6\u001b[39m, in \u001b[36mfn\u001b[39m\u001b[34m()\u001b[39m\n\u001b[32m      4\u001b[39m \u001b[38;5;28mprint\u001b[39m(arr)\n\u001b[32m      5\u001b[39m \u001b[38;5;28;01mfor\u001b[39;00m i \u001b[38;5;129;01min\u001b[39;00m arr:\n\u001b[32m----> \u001b[39m\u001b[32m6\u001b[39m     count += \u001b[38;5;28;43mint\u001b[39;49m\u001b[43m(\u001b[49m\u001b[43mi\u001b[49m\u001b[43m)\u001b[49m\n\u001b[32m      7\u001b[39m \u001b[38;5;28;01mreturn\u001b[39;00m count\n",
      "    \u001b[31m[... skipping hidden 1 frame]\u001b[39m\n",
      "\u001b[36mFile \u001b[39m\u001b[32m~/Projects/monkey/xland-minigrid/.venv/lib/python3.11/site-packages/jax/_src/core.py:1578\u001b[39m, in \u001b[36mconcretization_function_error.<locals>.error\u001b[39m\u001b[34m(self, arg)\u001b[39m\n\u001b[32m   1577\u001b[39m \u001b[38;5;28;01mdef\u001b[39;00m\u001b[38;5;250m \u001b[39m\u001b[34merror\u001b[39m(\u001b[38;5;28mself\u001b[39m, arg):\n\u001b[32m-> \u001b[39m\u001b[32m1578\u001b[39m   \u001b[38;5;28;01mraise\u001b[39;00m ConcretizationTypeError(arg, fname_context)\n",
      "\u001b[31mConcretizationTypeError\u001b[39m: Abstract tracer value encountered where concrete value is expected: traced array with shape int32[]\nThe problem arose with the `int` function. If trying to convert the data type of a value, try using `x.astype(int)` or `jnp.array(x, int)` instead.\nThe error occurred while tracing the function fn at /var/folders/q4/2lsmb6qd1ks8137720rg8fz80000gn/T/ipykernel_33732/3720083227.py:1 for jit. This value became a tracer due to JAX operations on these lines:\n\n  operation a\u001b[35m:i32[5]\u001b[39m = convert_element_type[new_dtype=int32 weak_type=False] b\n    from line /var/folders/q4/2lsmb6qd1ks8137720rg8fz80000gn/T/ipykernel_33732/3720083227.py:3:10 (fn)\n\nSee https://jax.readthedocs.io/en/latest/errors.html#jax.errors.ConcretizationTypeError"
     ]
    }
   ],
   "source": [
    "def fn():\n",
    "    count = 0\n",
    "    arr = jnp.array([0, 1, 2, 3, 4])\n",
    "    print(arr)\n",
    "    for i in arr:\n",
    "        count += int(i)\n",
    "    return count\n",
    "\n",
    "\n",
    "jax.jit(fn)()"
   ]
  },
  {
   "cell_type": "markdown",
   "metadata": {},
   "source": [
    "In fact, when we try inspecting what `arr` is, we see that it is ShapedArray Tracer instead of a concrete array. That's unintuitive! The Jax array `arr` is hardcoded in the function. Why is it converted into a Tracer?\n",
    "\n",
    "One hypothesis is that Jax will always treat data that \"resides\" on the GPU as a Tracer. But why?\n"
   ]
  }
 ],
 "metadata": {
  "kernelspec": {
   "display_name": ".venv",
   "language": "python",
   "name": "python3"
  },
  "language_info": {
   "codemirror_mode": {
    "name": "ipython",
    "version": 3
   },
   "file_extension": ".py",
   "mimetype": "text/x-python",
   "name": "python",
   "nbconvert_exporter": "python",
   "pygments_lexer": "ipython3",
   "version": "3.11.4"
  }
 },
 "nbformat": 4,
 "nbformat_minor": 2
}
