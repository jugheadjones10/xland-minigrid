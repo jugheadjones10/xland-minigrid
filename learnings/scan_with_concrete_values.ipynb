{
 "cells": [
  {
   "cell_type": "code",
   "execution_count": 5,
   "metadata": {},
   "outputs": [],
   "source": [
    "import jax\n",
    "import jax.numpy as jnp\n",
    "from functools import partial"
   ]
  },
  {
   "cell_type": "markdown",
   "metadata": {},
   "source": [
    "### Original failing code:\n"
   ]
  },
  {
   "cell_type": "code",
   "execution_count": 1,
   "metadata": {},
   "outputs": [
    {
     "ename": "ConcretizationTypeError",
     "evalue": "Abstract tracer value encountered where concrete value is expected: traced array with shape int32[]\nThe `length` argument to `scan` expects a concrete `int` value.\nThe error occurred while tracing the function _meta_step at /var/folders/q4/2lsmb6qd1ks8137720rg8fz80000gn/T/ipykernel_31168/2946125733.py:9 for scan. This concrete value was not available in Python because it depends on the value of the argument meta_state.\n\nSee https://jax.readthedocs.io/en/latest/errors.html#jax.errors.ConcretizationTypeError",
     "output_type": "error",
     "traceback": [
      "\u001b[31m---------------------------------------------------------------------------\u001b[39m",
      "\u001b[31mConcretizationTypeError\u001b[39m                   Traceback (most recent call last)",
      "\u001b[36mCell\u001b[39m\u001b[36m \u001b[39m\u001b[32mIn[1]\u001b[39m\u001b[32m, line 26\u001b[39m\n\u001b[32m     22\u001b[39m     count = \u001b[32m0\u001b[39m\n\u001b[32m     23\u001b[39m     count, _ = jax.lax.scan(_meta_step, count, \u001b[38;5;28;01mNone\u001b[39;00m, updates_per_schedule * \u001b[38;5;28mlen\u001b[39m(schedule))\n\u001b[32m---> \u001b[39m\u001b[32m26\u001b[39m \u001b[43mjax\u001b[49m\u001b[43m.\u001b[49m\u001b[43mjit\u001b[49m\u001b[43m(\u001b[49m\u001b[43mtrain\u001b[49m\u001b[43m)\u001b[49m\u001b[43m(\u001b[49m\u001b[43m)\u001b[49m\n",
      "    \u001b[31m[... skipping hidden 13 frame]\u001b[39m\n",
      "\u001b[36mCell\u001b[39m\u001b[36m \u001b[39m\u001b[32mIn[1]\u001b[39m\u001b[32m, line 23\u001b[39m, in \u001b[36mtrain\u001b[39m\u001b[34m()\u001b[39m\n\u001b[32m     20\u001b[39m     \u001b[38;5;28;01mreturn\u001b[39;00m count + \u001b[32m1\u001b[39m, env_state\n\u001b[32m     22\u001b[39m count = \u001b[32m0\u001b[39m\n\u001b[32m---> \u001b[39m\u001b[32m23\u001b[39m count, _ = \u001b[43mjax\u001b[49m\u001b[43m.\u001b[49m\u001b[43mlax\u001b[49m\u001b[43m.\u001b[49m\u001b[43mscan\u001b[49m\u001b[43m(\u001b[49m\u001b[43m_meta_step\u001b[49m\u001b[43m,\u001b[49m\u001b[43m \u001b[49m\u001b[43mcount\u001b[49m\u001b[43m,\u001b[49m\u001b[43m \u001b[49m\u001b[38;5;28;43;01mNone\u001b[39;49;00m\u001b[43m,\u001b[49m\u001b[43m \u001b[49m\u001b[43mupdates_per_schedule\u001b[49m\u001b[43m \u001b[49m\u001b[43m*\u001b[49m\u001b[43m \u001b[49m\u001b[38;5;28;43mlen\u001b[39;49m\u001b[43m(\u001b[49m\u001b[43mschedule\u001b[49m\u001b[43m)\u001b[49m\u001b[43m)\u001b[49m\n",
      "    \u001b[31m[... skipping hidden 10 frame]\u001b[39m\n",
      "\u001b[36mCell\u001b[39m\u001b[36m \u001b[39m\u001b[32mIn[1]\u001b[39m\u001b[32m, line 18\u001b[39m, in \u001b[36mtrain.<locals>._meta_step\u001b[39m\u001b[34m(meta_state, _)\u001b[39m\n\u001b[32m     15\u001b[39m \u001b[38;5;28;01mdef\u001b[39;00m\u001b[38;5;250m \u001b[39m\u001b[34m_env_step\u001b[39m(env_state, _):\n\u001b[32m     16\u001b[39m     \u001b[38;5;28;01mreturn\u001b[39;00m env_state, \u001b[38;5;28;01mNone\u001b[39;00m\n\u001b[32m---> \u001b[39m\u001b[32m18\u001b[39m env_state = \u001b[43mjax\u001b[49m\u001b[43m.\u001b[49m\u001b[43mlax\u001b[49m\u001b[43m.\u001b[49m\u001b[43mscan\u001b[49m\u001b[43m(\u001b[49m\u001b[43m_env_step\u001b[49m\u001b[43m,\u001b[49m\u001b[43m \u001b[49m\u001b[38;5;28;43;01mNone\u001b[39;49;00m\u001b[43m,\u001b[49m\u001b[43m \u001b[49m\u001b[38;5;28;43;01mNone\u001b[39;49;00m\u001b[43m,\u001b[49m\u001b[43m \u001b[49m\u001b[43mnum_steps\u001b[49m\u001b[43m)\u001b[49m\n\u001b[32m     20\u001b[39m \u001b[38;5;28;01mreturn\u001b[39;00m count + \u001b[32m1\u001b[39m, env_state\n",
      "    \u001b[31m[... skipping hidden 1 frame]\u001b[39m\n",
      "\u001b[36mFile \u001b[39m\u001b[32m~/Projects/monkey/xland-minigrid/.venv/lib/python3.11/site-packages/jax/_src/lax/control_flow/loops.py:243\u001b[39m, in \u001b[36mscan\u001b[39m\u001b[34m(f, init, xs, length, reverse, unroll, _split_transpose)\u001b[39m\n\u001b[32m    241\u001b[39m \u001b[38;5;28;01mexcept\u001b[39;00m core.ConcretizationTypeError \u001b[38;5;28;01mas\u001b[39;00m err:\n\u001b[32m    242\u001b[39m   msg = \u001b[33m'\u001b[39m\u001b[33mThe `length` argument to `scan` expects a concrete `int` value.\u001b[39m\u001b[33m'\u001b[39m\n\u001b[32m--> \u001b[39m\u001b[32m243\u001b[39m   \u001b[38;5;28;01mraise\u001b[39;00m core.ConcretizationTypeError(length, msg) \u001b[38;5;28;01mfrom\u001b[39;00m\u001b[38;5;250m \u001b[39m\u001b[38;5;28;01mNone\u001b[39;00m  \u001b[38;5;66;03m# type: ignore[arg-type]\u001b[39;00m\n\u001b[32m    244\u001b[39m \u001b[38;5;28;01mif\u001b[39;00m \u001b[38;5;129;01mnot\u001b[39;00m \u001b[38;5;28mall\u001b[39m(length == l \u001b[38;5;28;01mfor\u001b[39;00m l \u001b[38;5;129;01min\u001b[39;00m lengths):\n\u001b[32m    245\u001b[39m   msg = (\u001b[33m\"\u001b[39m\u001b[33mscan got `length` argument of \u001b[39m\u001b[38;5;132;01m{}\u001b[39;00m\u001b[33m which disagrees with \u001b[39m\u001b[33m\"\u001b[39m\n\u001b[32m    246\u001b[39m          \u001b[33m\"\u001b[39m\u001b[33mleading axis sizes \u001b[39m\u001b[38;5;132;01m{}\u001b[39;00m\u001b[33m.\u001b[39m\u001b[33m\"\u001b[39m)\n",
      "\u001b[31mConcretizationTypeError\u001b[39m: Abstract tracer value encountered where concrete value is expected: traced array with shape int32[]\nThe `length` argument to `scan` expects a concrete `int` value.\nThe error occurred while tracing the function _meta_step at /var/folders/q4/2lsmb6qd1ks8137720rg8fz80000gn/T/ipykernel_31168/2946125733.py:9 for scan. This concrete value was not available in Python because it depends on the value of the argument meta_state.\n\nSee https://jax.readthedocs.io/en/latest/errors.html#jax.errors.ConcretizationTypeError"
     ]
    }
   ],
   "source": [
    "schedule = jnp.array([10, 20, 30, 40, 50])\n",
    "updates_per_schedule = 10\n",
    "\n",
    "\n",
    "def train():\n",
    "    def _meta_step(meta_state, _):\n",
    "        count = meta_state\n",
    "\n",
    "        # Ranges from 10 to 50\n",
    "        num_steps = schedule[count // updates_per_schedule]\n",
    "\n",
    "        def _env_step(env_state, _):\n",
    "            return env_state, None\n",
    "\n",
    "        env_state = jax.lax.scan(_env_step, None, None, num_steps)\n",
    "\n",
    "        return count + 1, env_state\n",
    "\n",
    "    count = 0\n",
    "    count, _ = jax.lax.scan(_meta_step, count, None, updates_per_schedule * len(schedule))\n",
    "\n",
    "\n",
    "jax.jit(train)()"
   ]
  },
  {
   "cell_type": "markdown",
   "metadata": {},
   "source": [
    "### Fix attempt 1:\n"
   ]
  },
  {
   "cell_type": "code",
   "execution_count": 3,
   "metadata": {},
   "outputs": [
    {
     "ename": "ConcretizationTypeError",
     "evalue": "Abstract tracer value encountered where concrete value is expected: traced array with shape int32[]\nThe `length` argument to `scan` expects a concrete `int` value.\nThe error occurred while tracing the function _meta_step at /var/folders/q4/2lsmb6qd1ks8137720rg8fz80000gn/T/ipykernel_31168/1645366953.py:6 for scan. This concrete value was not available in Python because it depends on the value of the argument num_steps.\n\nSee https://jax.readthedocs.io/en/latest/errors.html#jax.errors.ConcretizationTypeError",
     "output_type": "error",
     "traceback": [
      "\u001b[31m---------------------------------------------------------------------------\u001b[39m",
      "\u001b[31mConcretizationTypeError\u001b[39m                   Traceback (most recent call last)",
      "\u001b[36mCell\u001b[39m\u001b[36m \u001b[39m\u001b[32mIn[3]\u001b[39m\u001b[32m, line 22\u001b[39m\n\u001b[32m     16\u001b[39m     count = \u001b[32m0\u001b[39m\n\u001b[32m     17\u001b[39m     count, _ = jax.lax.scan(\n\u001b[32m     18\u001b[39m         _meta_step, count, jnp.repeat(schedule, updates_per_schedule), updates_per_schedule * \u001b[38;5;28mlen\u001b[39m(schedule)\n\u001b[32m     19\u001b[39m     )\n\u001b[32m---> \u001b[39m\u001b[32m22\u001b[39m \u001b[43mjax\u001b[49m\u001b[43m.\u001b[49m\u001b[43mjit\u001b[49m\u001b[43m(\u001b[49m\u001b[43mtrain\u001b[49m\u001b[43m)\u001b[49m\u001b[43m(\u001b[49m\u001b[43m)\u001b[49m\n",
      "    \u001b[31m[... skipping hidden 13 frame]\u001b[39m\n",
      "\u001b[36mCell\u001b[39m\u001b[36m \u001b[39m\u001b[32mIn[3]\u001b[39m\u001b[32m, line 17\u001b[39m, in \u001b[36mtrain\u001b[39m\u001b[34m()\u001b[39m\n\u001b[32m     14\u001b[39m     \u001b[38;5;28;01mreturn\u001b[39;00m count + \u001b[32m1\u001b[39m, env_state\n\u001b[32m     16\u001b[39m count = \u001b[32m0\u001b[39m\n\u001b[32m---> \u001b[39m\u001b[32m17\u001b[39m count, _ = \u001b[43mjax\u001b[49m\u001b[43m.\u001b[49m\u001b[43mlax\u001b[49m\u001b[43m.\u001b[49m\u001b[43mscan\u001b[49m\u001b[43m(\u001b[49m\n\u001b[32m     18\u001b[39m \u001b[43m    \u001b[49m\u001b[43m_meta_step\u001b[49m\u001b[43m,\u001b[49m\u001b[43m \u001b[49m\u001b[43mcount\u001b[49m\u001b[43m,\u001b[49m\u001b[43m \u001b[49m\u001b[43mjnp\u001b[49m\u001b[43m.\u001b[49m\u001b[43mrepeat\u001b[49m\u001b[43m(\u001b[49m\u001b[43mschedule\u001b[49m\u001b[43m,\u001b[49m\u001b[43m \u001b[49m\u001b[43mupdates_per_schedule\u001b[49m\u001b[43m)\u001b[49m\u001b[43m,\u001b[49m\u001b[43m \u001b[49m\u001b[43mupdates_per_schedule\u001b[49m\u001b[43m \u001b[49m\u001b[43m*\u001b[49m\u001b[43m \u001b[49m\u001b[38;5;28;43mlen\u001b[39;49m\u001b[43m(\u001b[49m\u001b[43mschedule\u001b[49m\u001b[43m)\u001b[49m\n\u001b[32m     19\u001b[39m \u001b[43m\u001b[49m\u001b[43m)\u001b[49m\n",
      "    \u001b[31m[... skipping hidden 10 frame]\u001b[39m\n",
      "\u001b[36mCell\u001b[39m\u001b[36m \u001b[39m\u001b[32mIn[3]\u001b[39m\u001b[32m, line 12\u001b[39m, in \u001b[36mtrain.<locals>._meta_step\u001b[39m\u001b[34m(meta_state, num_steps)\u001b[39m\n\u001b[32m      9\u001b[39m \u001b[38;5;28;01mdef\u001b[39;00m\u001b[38;5;250m \u001b[39m\u001b[34m_env_step\u001b[39m(env_state, _):\n\u001b[32m     10\u001b[39m     \u001b[38;5;28;01mreturn\u001b[39;00m env_state, \u001b[38;5;28;01mNone\u001b[39;00m\n\u001b[32m---> \u001b[39m\u001b[32m12\u001b[39m env_state = \u001b[43mjax\u001b[49m\u001b[43m.\u001b[49m\u001b[43mlax\u001b[49m\u001b[43m.\u001b[49m\u001b[43mscan\u001b[49m\u001b[43m(\u001b[49m\u001b[43m_env_step\u001b[49m\u001b[43m,\u001b[49m\u001b[43m \u001b[49m\u001b[38;5;28;43;01mNone\u001b[39;49;00m\u001b[43m,\u001b[49m\u001b[43m \u001b[49m\u001b[38;5;28;43;01mNone\u001b[39;49;00m\u001b[43m,\u001b[49m\u001b[43m \u001b[49m\u001b[43mnum_steps\u001b[49m\u001b[43m)\u001b[49m\n\u001b[32m     14\u001b[39m \u001b[38;5;28;01mreturn\u001b[39;00m count + \u001b[32m1\u001b[39m, env_state\n",
      "    \u001b[31m[... skipping hidden 1 frame]\u001b[39m\n",
      "\u001b[36mFile \u001b[39m\u001b[32m~/Projects/monkey/xland-minigrid/.venv/lib/python3.11/site-packages/jax/_src/lax/control_flow/loops.py:243\u001b[39m, in \u001b[36mscan\u001b[39m\u001b[34m(f, init, xs, length, reverse, unroll, _split_transpose)\u001b[39m\n\u001b[32m    241\u001b[39m \u001b[38;5;28;01mexcept\u001b[39;00m core.ConcretizationTypeError \u001b[38;5;28;01mas\u001b[39;00m err:\n\u001b[32m    242\u001b[39m   msg = \u001b[33m'\u001b[39m\u001b[33mThe `length` argument to `scan` expects a concrete `int` value.\u001b[39m\u001b[33m'\u001b[39m\n\u001b[32m--> \u001b[39m\u001b[32m243\u001b[39m   \u001b[38;5;28;01mraise\u001b[39;00m core.ConcretizationTypeError(length, msg) \u001b[38;5;28;01mfrom\u001b[39;00m\u001b[38;5;250m \u001b[39m\u001b[38;5;28;01mNone\u001b[39;00m  \u001b[38;5;66;03m# type: ignore[arg-type]\u001b[39;00m\n\u001b[32m    244\u001b[39m \u001b[38;5;28;01mif\u001b[39;00m \u001b[38;5;129;01mnot\u001b[39;00m \u001b[38;5;28mall\u001b[39m(length == l \u001b[38;5;28;01mfor\u001b[39;00m l \u001b[38;5;129;01min\u001b[39;00m lengths):\n\u001b[32m    245\u001b[39m   msg = (\u001b[33m\"\u001b[39m\u001b[33mscan got `length` argument of \u001b[39m\u001b[38;5;132;01m{}\u001b[39;00m\u001b[33m which disagrees with \u001b[39m\u001b[33m\"\u001b[39m\n\u001b[32m    246\u001b[39m          \u001b[33m\"\u001b[39m\u001b[33mleading axis sizes \u001b[39m\u001b[38;5;132;01m{}\u001b[39;00m\u001b[33m.\u001b[39m\u001b[33m\"\u001b[39m)\n",
      "\u001b[31mConcretizationTypeError\u001b[39m: Abstract tracer value encountered where concrete value is expected: traced array with shape int32[]\nThe `length` argument to `scan` expects a concrete `int` value.\nThe error occurred while tracing the function _meta_step at /var/folders/q4/2lsmb6qd1ks8137720rg8fz80000gn/T/ipykernel_31168/1645366953.py:6 for scan. This concrete value was not available in Python because it depends on the value of the argument num_steps.\n\nSee https://jax.readthedocs.io/en/latest/errors.html#jax.errors.ConcretizationTypeError"
     ]
    }
   ],
   "source": [
    "schedule = jnp.array([10, 20, 30, 40, 50])\n",
    "updates_per_schedule = 10\n",
    "\n",
    "\n",
    "def train():\n",
    "    def _meta_step(meta_state, num_steps):\n",
    "        count = meta_state\n",
    "\n",
    "        def _env_step(env_state, _):\n",
    "            return env_state, None\n",
    "\n",
    "        env_state = jax.lax.scan(_env_step, None, None, num_steps)\n",
    "\n",
    "        return count + 1, env_state\n",
    "\n",
    "    count = 0\n",
    "    count, _ = jax.lax.scan(\n",
    "        _meta_step, count, jnp.repeat(schedule, updates_per_schedule), updates_per_schedule * len(schedule)\n",
    "    )\n",
    "    return count\n",
    "\n",
    "\n",
    "jax.jit(train)()"
   ]
  },
  {
   "cell_type": "markdown",
   "metadata": {},
   "source": [
    "### Fix attempt 2:\n"
   ]
  },
  {
   "cell_type": "code",
   "execution_count": 10,
   "metadata": {},
   "outputs": [
    {
     "ename": "ConcretizationTypeError",
     "evalue": "Abstract tracer value encountered where concrete value is expected: traced array with shape int32[]\nThe problem arose with the `int` function. If trying to convert the data type of a value, try using `x.astype(int)` or `jnp.array(x, int)` instead.\nThe error occurred while tracing the function train at /var/folders/q4/2lsmb6qd1ks8137720rg8fz80000gn/T/ipykernel_31168/3242141445.py:4 for jit. This value became a tracer due to JAX operations on these lines:\n\n  operation a\u001b[35m:i32[5,10]\u001b[39m = broadcast_in_dim[\n  broadcast_dimensions=(0,)\n  shape=(5, 10)\n  sharding=None\n] b\n    from line /var/folders/q4/2lsmb6qd1ks8137720rg8fz80000gn/T/ipykernel_31168/3242141445.py:17:21 (train)\n\nSee https://jax.readthedocs.io/en/latest/errors.html#jax.errors.ConcretizationTypeError",
     "output_type": "error",
     "traceback": [
      "\u001b[31m---------------------------------------------------------------------------\u001b[39m",
      "\u001b[31mConcretizationTypeError\u001b[39m                   Traceback (most recent call last)",
      "\u001b[36mCell\u001b[39m\u001b[36m \u001b[39m\u001b[32mIn[10]\u001b[39m\u001b[32m, line 22\u001b[39m\n\u001b[32m     18\u001b[39m         count, _ = _meta_step(count, \u001b[38;5;28mint\u001b[39m(num_steps))\n\u001b[32m     20\u001b[39m     \u001b[38;5;28;01mreturn\u001b[39;00m count\n\u001b[32m---> \u001b[39m\u001b[32m22\u001b[39m \u001b[43mjax\u001b[49m\u001b[43m.\u001b[49m\u001b[43mjit\u001b[49m\u001b[43m(\u001b[49m\u001b[43mtrain\u001b[49m\u001b[43m)\u001b[49m\u001b[43m(\u001b[49m\u001b[43m)\u001b[49m\n",
      "    \u001b[31m[... skipping hidden 13 frame]\u001b[39m\n",
      "\u001b[36mCell\u001b[39m\u001b[36m \u001b[39m\u001b[32mIn[10]\u001b[39m\u001b[32m, line 18\u001b[39m, in \u001b[36mtrain\u001b[39m\u001b[34m()\u001b[39m\n\u001b[32m     16\u001b[39m count = \u001b[32m0\u001b[39m\n\u001b[32m     17\u001b[39m \u001b[38;5;28;01mfor\u001b[39;00m num_steps \u001b[38;5;129;01min\u001b[39;00m jnp.repeat(schedule, updates_per_schedule):\n\u001b[32m---> \u001b[39m\u001b[32m18\u001b[39m     count, _ = _meta_step(count, \u001b[38;5;28;43mint\u001b[39;49m\u001b[43m(\u001b[49m\u001b[43mnum_steps\u001b[49m\u001b[43m)\u001b[49m)\n\u001b[32m     20\u001b[39m \u001b[38;5;28;01mreturn\u001b[39;00m count\n",
      "    \u001b[31m[... skipping hidden 1 frame]\u001b[39m\n",
      "\u001b[36mFile \u001b[39m\u001b[32m~/Projects/monkey/xland-minigrid/.venv/lib/python3.11/site-packages/jax/_src/core.py:1578\u001b[39m, in \u001b[36mconcretization_function_error.<locals>.error\u001b[39m\u001b[34m(self, arg)\u001b[39m\n\u001b[32m   1577\u001b[39m \u001b[38;5;28;01mdef\u001b[39;00m\u001b[38;5;250m \u001b[39m\u001b[34merror\u001b[39m(\u001b[38;5;28mself\u001b[39m, arg):\n\u001b[32m-> \u001b[39m\u001b[32m1578\u001b[39m   \u001b[38;5;28;01mraise\u001b[39;00m ConcretizationTypeError(arg, fname_context)\n",
      "\u001b[31mConcretizationTypeError\u001b[39m: Abstract tracer value encountered where concrete value is expected: traced array with shape int32[]\nThe problem arose with the `int` function. If trying to convert the data type of a value, try using `x.astype(int)` or `jnp.array(x, int)` instead.\nThe error occurred while tracing the function train at /var/folders/q4/2lsmb6qd1ks8137720rg8fz80000gn/T/ipykernel_31168/3242141445.py:4 for jit. This value became a tracer due to JAX operations on these lines:\n\n  operation a\u001b[35m:i32[5,10]\u001b[39m = broadcast_in_dim[\n  broadcast_dimensions=(0,)\n  shape=(5, 10)\n  sharding=None\n] b\n    from line /var/folders/q4/2lsmb6qd1ks8137720rg8fz80000gn/T/ipykernel_31168/3242141445.py:17:21 (train)\n\nSee https://jax.readthedocs.io/en/latest/errors.html#jax.errors.ConcretizationTypeError"
     ]
    }
   ],
   "source": [
    "schedule = jnp.array([10, 20, 30, 40, 50])\n",
    "updates_per_schedule = 10\n",
    "\n",
    "\n",
    "def train():\n",
    "    @partial(jax.jit, static_argnums=(1,))\n",
    "    def _meta_step(meta_state, num_steps):\n",
    "        count = meta_state\n",
    "\n",
    "        def _env_step(env_state, _):\n",
    "            return env_state, None\n",
    "\n",
    "        env_state = jax.lax.scan(_env_step, None, None, num_steps)\n",
    "\n",
    "        return count + 1, env_state\n",
    "\n",
    "    count = 0\n",
    "    for num_steps in jnp.repeat(schedule, updates_per_schedule):\n",
    "        count, _ = _meta_step(count, int(num_steps))\n",
    "\n",
    "    return count\n",
    "\n",
    "\n",
    "jax.jit(train)()"
   ]
  },
  {
   "cell_type": "markdown",
   "metadata": {},
   "source": [
    "Ok, the above doesn't work because Jax arrays become Tracers when being jit compiled. This means `num_steps` in the for loop will be a Tracer, so we cannot apply `int` on it. Let's try using plain Python lists.\n"
   ]
  },
  {
   "cell_type": "markdown",
   "metadata": {},
   "source": [
    "### Fix attempt 3:\n"
   ]
  },
  {
   "cell_type": "code",
   "execution_count": 62,
   "metadata": {},
   "outputs": [
    {
     "data": {
      "text/plain": [
       "Array(50, dtype=int32, weak_type=True)"
      ]
     },
     "execution_count": 62,
     "metadata": {},
     "output_type": "execute_result"
    }
   ],
   "source": [
    "schedule = [10, 20, 30, 40, 50]\n",
    "updates_per_schedule = 10\n",
    "schedule_list = (\n",
    "    [10] * updates_per_schedule\n",
    "    + [20] * updates_per_schedule\n",
    "    + [30] * updates_per_schedule\n",
    "    + [40] * updates_per_schedule\n",
    "    + [50] * updates_per_schedule\n",
    ")\n",
    "\n",
    "\n",
    "@jax.jit\n",
    "def train1():\n",
    "    def _meta_step(meta_state, num_steps):\n",
    "        count = meta_state\n",
    "\n",
    "        def _env_step(env_state, _):\n",
    "            return env_state, None\n",
    "\n",
    "        env_state = jax.lax.scan(_env_step, None, None, num_steps)\n",
    "\n",
    "        return count + 1, env_state\n",
    "\n",
    "    count = 0\n",
    "    for num_steps in schedule_list:\n",
    "        count, _ = _meta_step(count, int(num_steps))\n",
    "\n",
    "    return count\n",
    "\n",
    "\n",
    "train1()"
   ]
  },
  {
   "cell_type": "markdown",
   "metadata": {},
   "source": [
    "The above solution might get too expensive if `_meta_step` is expensive to compile. Which leads to our final attempt:\n"
   ]
  },
  {
   "cell_type": "code",
   "execution_count": 63,
   "metadata": {},
   "outputs": [
    {
     "data": {
      "text/plain": [
       "Array(50, dtype=int32, weak_type=True)"
      ]
     },
     "execution_count": 63,
     "metadata": {},
     "output_type": "execute_result"
    }
   ],
   "source": [
    "def train2():\n",
    "    @partial(jax.jit, static_argnums=(1,))\n",
    "    def _meta_step(meta_state, num_steps):\n",
    "        count = meta_state\n",
    "\n",
    "        def _env_step(env_state, _):\n",
    "            return env_state, None\n",
    "\n",
    "        env_state = jax.lax.scan(_env_step, None, None, num_steps)\n",
    "\n",
    "        return count + 1, env_state\n",
    "\n",
    "    count = 0\n",
    "    for num_steps in schedule_list:\n",
    "        count, _ = _meta_step(count, int(num_steps))\n",
    "\n",
    "    return count\n",
    "\n",
    "\n",
    "train2()"
   ]
  },
  {
   "cell_type": "markdown",
   "metadata": {},
   "source": [
    "Let's compare performance of these two approaches.\n"
   ]
  },
  {
   "cell_type": "code",
   "execution_count": 64,
   "metadata": {},
   "outputs": [
    {
     "name": "stdout",
     "output_type": "stream",
     "text": [
      "2.69 μs ± 41.1 ns per loop (mean ± std. dev. of 7 runs, 100,000 loops each)\n"
     ]
    }
   ],
   "source": [
    "%timeit train1()"
   ]
  },
  {
   "cell_type": "code",
   "execution_count": 65,
   "metadata": {},
   "outputs": [
    {
     "name": "stdout",
     "output_type": "stream",
     "text": [
      "83.4 ms ± 171 μs per loop (mean ± std. dev. of 7 runs, 10 loops each)\n"
     ]
    }
   ],
   "source": [
    "%timeit train2()\n"
   ]
  }
 ],
 "metadata": {
  "kernelspec": {
   "display_name": ".venv",
   "language": "python",
   "name": "python3"
  },
  "language_info": {
   "codemirror_mode": {
    "name": "ipython",
    "version": 3
   },
   "file_extension": ".py",
   "mimetype": "text/x-python",
   "name": "python",
   "nbconvert_exporter": "python",
   "pygments_lexer": "ipython3",
   "version": "3.11.4"
  }
 },
 "nbformat": 4,
 "nbformat_minor": 2
}
